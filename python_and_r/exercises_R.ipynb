{
  "nbformat": 4,
  "nbformat_minor": 0,
  "metadata": {
    "colab": {
      "provenance": [],
      "authorship_tag": "ABX9TyNfynJ4k1p7f+W8EluB2Fy1",
      "include_colab_link": true
    },
    "kernelspec": {
      "name": "ir",
      "display_name": "R"
    },
    "language_info": {
      "name": "R"
    }
  },
  "cells": [
    {
      "cell_type": "markdown",
      "metadata": {
        "id": "view-in-github",
        "colab_type": "text"
      },
      "source": [
        "<a href=\"https://colab.research.google.com/github/je-blueink/Basics-for-statistics/blob/main/python_and_r/exercises_R.ipynb\" target=\"_parent\"><img src=\"https://colab.research.google.com/assets/colab-badge.svg\" alt=\"Open In Colab\"/></a>"
      ]
    },
    {
      "cell_type": "markdown",
      "source": [
        "3장 1.\n",
        "- 3개의 열을 갖는 데이터프레임 만들기 (name, height, weight)\n",
        "- 첫 번째 사람 kim의 키와 몸무게 두 값만 배열로 추출"
      ],
      "metadata": {
        "id": "gojltMO_Ly9E"
      }
    },
    {
      "cell_type": "code",
      "source": [
        "x1 <- c(\"kim\", \"lee\", \"park\")\n",
        "x2 <- c(170, 160, 180)\n",
        "x3 <- c(60, 55, 75)"
      ],
      "metadata": {
        "id": "SLJZ80UgXPMX"
      },
      "execution_count": null,
      "outputs": []
    },
    {
      "cell_type": "code",
      "source": [
        "df1 <- data.frame(name=x1, height=x2, weight=x3, stringsAsFactors = T)\n",
        "df1"
      ],
      "metadata": {
        "colab": {
          "base_uri": "https://localhost:8080/",
          "height": 192
        },
        "id": "ShaYS_hJXlb6",
        "outputId": "571bd605-61ad-423a-efec-04a3ee8a3405"
      },
      "execution_count": null,
      "outputs": [
        {
          "output_type": "display_data",
          "data": {
            "text/html": [
              "<table class=\"dataframe\">\n",
              "<caption>A data.frame: 3 × 3</caption>\n",
              "<thead>\n",
              "\t<tr><th scope=col>name</th><th scope=col>height</th><th scope=col>weight</th></tr>\n",
              "\t<tr><th scope=col>&lt;fct&gt;</th><th scope=col>&lt;dbl&gt;</th><th scope=col>&lt;dbl&gt;</th></tr>\n",
              "</thead>\n",
              "<tbody>\n",
              "\t<tr><td>kim </td><td>170</td><td>60</td></tr>\n",
              "\t<tr><td>lee </td><td>160</td><td>55</td></tr>\n",
              "\t<tr><td>park</td><td>180</td><td>75</td></tr>\n",
              "</tbody>\n",
              "</table>\n"
            ],
            "text/markdown": "\nA data.frame: 3 × 3\n\n| name &lt;fct&gt; | height &lt;dbl&gt; | weight &lt;dbl&gt; |\n|---|---|---|\n| kim  | 170 | 60 |\n| lee  | 160 | 55 |\n| park | 180 | 75 |\n\n",
            "text/latex": "A data.frame: 3 × 3\n\\begin{tabular}{lll}\n name & height & weight\\\\\n <fct> & <dbl> & <dbl>\\\\\n\\hline\n\t kim  & 170 & 60\\\\\n\t lee  & 160 & 55\\\\\n\t park & 180 & 75\\\\\n\\end{tabular}\n",
            "text/plain": [
              "  name height weight\n",
              "1 kim  170    60    \n",
              "2 lee  160    55    \n",
              "3 park 180    75    "
            ]
          },
          "metadata": {}
        }
      ]
    },
    {
      "cell_type": "code",
      "source": [
        "arr1 <- array(df1[1,-1])\n",
        "arr1"
      ],
      "metadata": {
        "colab": {
          "base_uri": "https://localhost:8080/",
          "height": 80
        },
        "id": "WNADhRtJYGeb",
        "outputId": "995cf60c-40ec-4fc2-8234-e83173d66eed"
      },
      "execution_count": null,
      "outputs": [
        {
          "output_type": "display_data",
          "data": {
            "text/html": [
              "<ol>\n",
              "\t<li>170</li>\n",
              "\t<li>60</li>\n",
              "</ol>\n"
            ],
            "text/markdown": "1. 170\n2. 60\n\n\n",
            "text/latex": "\\begin{enumerate}\n\\item 170\n\\item 60\n\\end{enumerate}\n",
            "text/plain": [
              "[[1]]\n",
              "[1] 170\n",
              "\n",
              "[[2]]\n",
              "[1] 60\n"
            ]
          },
          "metadata": {}
        }
      ]
    },
    {
      "cell_type": "markdown",
      "source": [
        "4장 8.\n",
        "- 함수 mywage 작성 (주당 근무시간 40시간 이내: 시간당 임금 1만원 / 40시간 초과분에 대해 1.5배 지급)\n",
        "- 출력은 list 함수 사용"
      ],
      "metadata": {
        "id": "QAqE91z-dEGl"
      }
    },
    {
      "cell_type": "code",
      "source": [
        "mywage <- function(time){\n",
        " options(scipen = 100)\n",
        "  if (time>40){\n",
        "    wage <- (40+(time-40)*1.5)*10000\n",
        "  } else if(time>0 & time<=40){\n",
        "    wage <- time*10000\n",
        "  } else {\n",
        "    wage <- 0\n",
        "  }\n",
        "   list(근무시간 = time, 임금 = wage)\n",
        "}"
      ],
      "metadata": {
        "id": "EKFQokrQRrnx"
      },
      "execution_count": null,
      "outputs": []
    },
    {
      "cell_type": "code",
      "source": [
        "mywage(67)"
      ],
      "metadata": {
        "colab": {
          "base_uri": "https://localhost:8080/",
          "height": 114
        },
        "id": "xwr5QOc8X95O",
        "outputId": "a8509eaa-2d3f-45ed-bcd0-e90bd93872e3"
      },
      "execution_count": null,
      "outputs": [
        {
          "output_type": "display_data",
          "data": {
            "text/html": [
              "<dl>\n",
              "\t<dt>$근무시간</dt>\n",
              "\t\t<dd>67</dd>\n",
              "\t<dt>$임금</dt>\n",
              "\t\t<dd>805000</dd>\n",
              "</dl>\n"
            ],
            "text/markdown": "$근무시간\n:   67\n$임금\n:   805000\n\n\n",
            "text/latex": "\\begin{description}\n\\item[\\$근무시간] 67\n\\item[\\$임금] 805000\n\\end{description}\n",
            "text/plain": [
              "$근무시간\n",
              "[1] 67\n",
              "\n",
              "$임금\n",
              "[1] 805000\n"
            ]
          },
          "metadata": {}
        }
      ]
    },
    {
      "cell_type": "code",
      "source": [
        "mywage(30)"
      ],
      "metadata": {
        "colab": {
          "base_uri": "https://localhost:8080/",
          "height": 114
        },
        "id": "o6pKCo8pT4KW",
        "outputId": "c057a1be-1363-4881-b670-cea49d3bdc26"
      },
      "execution_count": null,
      "outputs": [
        {
          "output_type": "display_data",
          "data": {
            "text/html": [
              "<dl>\n",
              "\t<dt>$근무시간</dt>\n",
              "\t\t<dd>30</dd>\n",
              "\t<dt>$임금</dt>\n",
              "\t\t<dd>300000</dd>\n",
              "</dl>\n"
            ],
            "text/markdown": "$근무시간\n:   30\n$임금\n:   300000\n\n\n",
            "text/latex": "\\begin{description}\n\\item[\\$근무시간] 30\n\\item[\\$임금] 300000\n\\end{description}\n",
            "text/plain": [
              "$근무시간\n",
              "[1] 30\n",
              "\n",
              "$임금\n",
              "[1] 300000\n"
            ]
          },
          "metadata": {}
        }
      ]
    },
    {
      "cell_type": "markdown",
      "source": [
        "8장 2.\n",
        "1985년 USDA 여성 영양 관련 자료 (25~50세, 랜덤표본 737명)\n",
        "\n",
        "(1) 결측치는 0으로 표시되어 있다.\n",
        "- 결측치를 제거하는 명령\n",
        "- 변수별 결측치 개수 확인"
      ],
      "metadata": {
        "id": "cb_F9LuMYTkd"
      }
    },
    {
      "cell_type": "code",
      "source": [
        "# 데이터 입력 및 확인\n",
        "data1 <- read.csv('sample_data/nutrient2.csv')\n",
        "head(data1)"
      ],
      "metadata": {
        "colab": {
          "base_uri": "https://localhost:8080/",
          "height": 286
        },
        "id": "bhgG7HTEY5KE",
        "outputId": "dcd2fc42-cd11-4d62-cb45-a66b2fdd0ee4"
      },
      "execution_count": null,
      "outputs": [
        {
          "output_type": "display_data",
          "data": {
            "text/html": [
              "<table class=\"dataframe\">\n",
              "<caption>A data.frame: 6 × 6</caption>\n",
              "<thead>\n",
              "\t<tr><th></th><th scope=col>id</th><th scope=col>calcium</th><th scope=col>iron</th><th scope=col>protein</th><th scope=col>vitaminA</th><th scope=col>vitaminC</th></tr>\n",
              "\t<tr><th></th><th scope=col>&lt;int&gt;</th><th scope=col>&lt;dbl&gt;</th><th scope=col>&lt;dbl&gt;</th><th scope=col>&lt;dbl&gt;</th><th scope=col>&lt;dbl&gt;</th><th scope=col>&lt;dbl&gt;</th></tr>\n",
              "</thead>\n",
              "<tbody>\n",
              "\t<tr><th scope=row>1</th><td>1</td><td> 522.29</td><td>10.188</td><td> 42.561</td><td>349.13</td><td> 54.141</td></tr>\n",
              "\t<tr><th scope=row>2</th><td>2</td><td> 343.32</td><td> 4.113</td><td> 67.793</td><td>266.99</td><td> 24.839</td></tr>\n",
              "\t<tr><th scope=row>3</th><td>3</td><td> 858.26</td><td>13.741</td><td> 59.933</td><td>667.90</td><td>155.455</td></tr>\n",
              "\t<tr><th scope=row>4</th><td>4</td><td> 575.98</td><td>13.245</td><td> 42.215</td><td>  0.00</td><td>224.688</td></tr>\n",
              "\t<tr><th scope=row>5</th><td>5</td><td>1927.50</td><td>18.919</td><td>111.316</td><td>740.27</td><td> 80.961</td></tr>\n",
              "\t<tr><th scope=row>6</th><td>6</td><td> 607.58</td><td> 6.800</td><td> 45.785</td><td>165.68</td><td> 13.050</td></tr>\n",
              "</tbody>\n",
              "</table>\n"
            ],
            "text/markdown": "\nA data.frame: 6 × 6\n\n| <!--/--> | id &lt;int&gt; | calcium &lt;dbl&gt; | iron &lt;dbl&gt; | protein &lt;dbl&gt; | vitaminA &lt;dbl&gt; | vitaminC &lt;dbl&gt; |\n|---|---|---|---|---|---|---|\n| 1 | 1 |  522.29 | 10.188 |  42.561 | 349.13 |  54.141 |\n| 2 | 2 |  343.32 |  4.113 |  67.793 | 266.99 |  24.839 |\n| 3 | 3 |  858.26 | 13.741 |  59.933 | 667.90 | 155.455 |\n| 4 | 4 |  575.98 | 13.245 |  42.215 |   0.00 | 224.688 |\n| 5 | 5 | 1927.50 | 18.919 | 111.316 | 740.27 |  80.961 |\n| 6 | 6 |  607.58 |  6.800 |  45.785 | 165.68 |  13.050 |\n\n",
            "text/latex": "A data.frame: 6 × 6\n\\begin{tabular}{r|llllll}\n  & id & calcium & iron & protein & vitaminA & vitaminC\\\\\n  & <int> & <dbl> & <dbl> & <dbl> & <dbl> & <dbl>\\\\\n\\hline\n\t1 & 1 &  522.29 & 10.188 &  42.561 & 349.13 &  54.141\\\\\n\t2 & 2 &  343.32 &  4.113 &  67.793 & 266.99 &  24.839\\\\\n\t3 & 3 &  858.26 & 13.741 &  59.933 & 667.90 & 155.455\\\\\n\t4 & 4 &  575.98 & 13.245 &  42.215 &   0.00 & 224.688\\\\\n\t5 & 5 & 1927.50 & 18.919 & 111.316 & 740.27 &  80.961\\\\\n\t6 & 6 &  607.58 &  6.800 &  45.785 & 165.68 &  13.050\\\\\n\\end{tabular}\n",
            "text/plain": [
              "  id calcium iron   protein vitaminA vitaminC\n",
              "1 1   522.29 10.188  42.561 349.13    54.141 \n",
              "2 2   343.32  4.113  67.793 266.99    24.839 \n",
              "3 3   858.26 13.741  59.933 667.90   155.455 \n",
              "4 4   575.98 13.245  42.215   0.00   224.688 \n",
              "5 5  1927.50 18.919 111.316 740.27    80.961 \n",
              "6 6   607.58  6.800  45.785 165.68    13.050 "
            ]
          },
          "metadata": {}
        }
      ]
    },
    {
      "cell_type": "code",
      "source": [
        "# 변수별 결측치 개수 확인\n",
        "data1[data1==0] <- NA\n",
        "colSums(is.na(data1))"
      ],
      "metadata": {
        "colab": {
          "base_uri": "https://localhost:8080/",
          "height": 34
        },
        "id": "vN7BwZYxeGXb",
        "outputId": "de27694a-bb73-4d8c-d8ac-95f95dbe04a7"
      },
      "execution_count": null,
      "outputs": [
        {
          "output_type": "display_data",
          "data": {
            "text/html": [
              "<style>\n",
              ".dl-inline {width: auto; margin:0; padding: 0}\n",
              ".dl-inline>dt, .dl-inline>dd {float: none; width: auto; display: inline-block}\n",
              ".dl-inline>dt::after {content: \":\\0020\"; padding-right: .5ex}\n",
              ".dl-inline>dt:not(:first-of-type) {padding-left: .5ex}\n",
              "</style><dl class=dl-inline><dt>id</dt><dd>0</dd><dt>calcium</dt><dd>4</dd><dt>iron</dt><dd>2</dd><dt>protein</dt><dd>1</dd><dt>vitaminA</dt><dd>9</dd><dt>vitaminC</dt><dd>7</dd></dl>\n"
            ],
            "text/markdown": "id\n:   0calcium\n:   4iron\n:   2protein\n:   1vitaminA\n:   9vitaminC\n:   7\n\n",
            "text/latex": "\\begin{description*}\n\\item[id] 0\n\\item[calcium] 4\n\\item[iron] 2\n\\item[protein] 1\n\\item[vitaminA] 9\n\\item[vitaminC] 7\n\\end{description*}\n",
            "text/plain": [
              "      id  calcium     iron  protein vitaminA vitaminC \n",
              "       0        4        2        1        9        7 "
            ]
          },
          "metadata": {}
        }
      ]
    },
    {
      "cell_type": "code",
      "source": [
        "# 결측치 제거 및 확인\n",
        "data_omit <- na.omit(data1)\n",
        "colSums(is.na(data_omit))"
      ],
      "metadata": {
        "colab": {
          "base_uri": "https://localhost:8080/",
          "height": 34
        },
        "id": "X9ff_52FeejN",
        "outputId": "7f052fe6-8560-422f-bf0d-918b1a88a0a6"
      },
      "execution_count": null,
      "outputs": [
        {
          "output_type": "display_data",
          "data": {
            "text/html": [
              "<style>\n",
              ".dl-inline {width: auto; margin:0; padding: 0}\n",
              ".dl-inline>dt, .dl-inline>dd {float: none; width: auto; display: inline-block}\n",
              ".dl-inline>dt::after {content: \":\\0020\"; padding-right: .5ex}\n",
              ".dl-inline>dt:not(:first-of-type) {padding-left: .5ex}\n",
              "</style><dl class=dl-inline><dt>id</dt><dd>0</dd><dt>calcium</dt><dd>0</dd><dt>iron</dt><dd>0</dd><dt>protein</dt><dd>0</dd><dt>vitaminA</dt><dd>0</dd><dt>vitaminC</dt><dd>0</dd></dl>\n"
            ],
            "text/markdown": "id\n:   0calcium\n:   0iron\n:   0protein\n:   0vitaminA\n:   0vitaminC\n:   0\n\n",
            "text/latex": "\\begin{description*}\n\\item[id] 0\n\\item[calcium] 0\n\\item[iron] 0\n\\item[protein] 0\n\\item[vitaminA] 0\n\\item[vitaminC] 0\n\\end{description*}\n",
            "text/plain": [
              "      id  calcium     iron  protein vitaminA vitaminC \n",
              "       0        0        0        0        0        0 "
            ]
          },
          "metadata": {}
        }
      ]
    },
    {
      "cell_type": "markdown",
      "source": [
        "(2) 변수별 평균, 표준편차, 최솟값, 최댓값, 중앙값, 제1사분위수, 제3사분위수"
      ],
      "metadata": {
        "id": "A0jInrUvY8hH"
      }
    },
    {
      "cell_type": "code",
      "source": [
        "# 변수별 다섯수치요약 구하기\n",
        "summary(data1[-1])"
      ],
      "metadata": {
        "colab": {
          "base_uri": "https://localhost:8080/",
          "height": 307
        },
        "id": "RXqWXwDZZFnp",
        "outputId": "e1afc61b-d1fd-4498-c928-c1624855febc"
      },
      "execution_count": null,
      "outputs": [
        {
          "output_type": "display_data",
          "data": {
            "text/plain": [
              "    calcium             iron           protein           vitaminA       \n",
              " Min.   :   7.44   Min.   : 0.367   Min.   :  2.255   Min.   :    2.27  \n",
              " 1st Qu.: 325.95   1st Qu.: 7.468   1st Qu.: 45.523   1st Qu.:  276.61  \n",
              " Median : 547.43   Median :10.033   Median : 61.239   Median :  523.18  \n",
              " Mean   : 620.76   Mean   :11.134   Mean   : 65.893   Mean   :  835.95  \n",
              " 3rd Qu.: 822.57   3rd Qu.:13.689   3rd Qu.: 80.806   3rd Qu.:  938.90  \n",
              " Max.   :2866.44   Max.   :58.668   Max.   :251.012   Max.   :34434.27  \n",
              " NA's   :4         NA's   :2        NA's   :1         NA's   :9         \n",
              "    vitaminC      \n",
              " Min.   :  0.037  \n",
              " 1st Qu.: 25.624  \n",
              " Median : 53.681  \n",
              " Mean   : 78.810  \n",
              " 3rd Qu.:108.626  \n",
              " Max.   :414.802  \n",
              " NA's   :7        "
            ]
          },
          "metadata": {}
        }
      ]
    },
    {
      "cell_type": "code",
      "source": [
        "# 변수별 표준편차 구하기\n",
        "sapply(data1[-1], sd, na.rm=TRUE)"
      ],
      "metadata": {
        "colab": {
          "base_uri": "https://localhost:8080/",
          "height": 34
        },
        "id": "VNNLqdrigG2g",
        "outputId": "6116cccf-778d-486f-af17-0bba0ffc026e"
      },
      "execution_count": null,
      "outputs": [
        {
          "output_type": "display_data",
          "data": {
            "text/html": [
              "<style>\n",
              ".dl-inline {width: auto; margin:0; padding: 0}\n",
              ".dl-inline>dt, .dl-inline>dd {float: none; width: auto; display: inline-block}\n",
              ".dl-inline>dt::after {content: \":\\0020\"; padding-right: .5ex}\n",
              ".dl-inline>dt:not(:first-of-type) {padding-left: .5ex}\n",
              "</style><dl class=dl-inline><dt>calcium</dt><dd>394.939556262129</dd><dt>iron</dt><dd>5.97050177434352</dd><dt>protein</dt><dd>30.499992384363</dd><dt>vitaminA</dt><dd>1637.22292815443</dd><dt>vitaminC</dt><dd>72.4223053561014</dd></dl>\n"
            ],
            "text/markdown": "calcium\n:   394.939556262129iron\n:   5.97050177434352protein\n:   30.499992384363vitaminA\n:   1637.22292815443vitaminC\n:   72.4223053561014\n\n",
            "text/latex": "\\begin{description*}\n\\item[calcium] 394.939556262129\n\\item[iron] 5.97050177434352\n\\item[protein] 30.499992384363\n\\item[vitaminA] 1637.22292815443\n\\item[vitaminC] 72.4223053561014\n\\end{description*}\n",
            "text/plain": [
              "    calcium        iron     protein    vitaminA    vitaminC \n",
              " 394.939556    5.970502   30.499992 1637.222928   72.422305 "
            ]
          },
          "metadata": {}
        }
      ]
    },
    {
      "cell_type": "markdown",
      "source": [
        "(3) 변수별 상자그림 및 히스토그램 그리기 + 각 변수의 분포 설명"
      ],
      "metadata": {
        "id": "JCf_2taNZE2X"
      }
    },
    {
      "cell_type": "code",
      "source": [
        "# 변수 별 상자그림 그리기\n",
        "boxplot(data1[-1])"
      ],
      "metadata": {
        "colab": {
          "base_uri": "https://localhost:8080/",
          "height": 437
        },
        "id": "CLp-msOOZSBH",
        "outputId": "5748a1e2-326d-4318-8a95-bb7f0741c922"
      },
      "execution_count": null,
      "outputs": [
        {
          "output_type": "display_data",
          "data": {
            "text/plain": [
              "plot without title"
            ],
            "image/png": "[encoded data removed]"
          },
          "metadata": {
            "image/png": {
              "width": 420,
              "height": 420
            }
          }
        }
      ]
    },
    {
      "cell_type": "code",
      "source": [
        "# vitamin A 에 이상치가 있고, 변수별 데이터의 평균과 산포도 차이가 크기 때문에, 분포를 좀 더 확인하기 쉽도록 각각 상자그림을 그림\n",
        "par(mfrow = c(3,2))\n",
        "boxplot(data1$calcium, horizontal = TRUE);title(\"boxplot of calcium\");\n",
        "boxplot(data1$vitaminA, horizontal = TRUE);title(\"boxplot of vitamin A\");\n",
        "boxplot(data1$iron, horizontal = TRUE);title(\"boxplot of iron\");\n",
        "boxplot(data1$protein, horizontal = TRUE);title(\"boxplot of protein\");\n",
        "boxplot(data1$vitaminC, horizontal = TRUE);title(\"boxplot of vitamin C\");"
      ],
      "metadata": {
        "colab": {
          "base_uri": "https://localhost:8080/",
          "height": 437
        },
        "id": "1e3yG9lfrIJz",
        "outputId": "707b491c-80f2-470c-87ff-98ba5b98f8ae"
      },
      "execution_count": null,
      "outputs": [
        {
          "output_type": "display_data",
          "data": {
            "text/plain": [
              "Plot with title “boxplot of vitamin C”"
            ],
            "image/png": "[encoded data removed]"
          },
          "metadata": {
            "image/png": {
              "width": 420,
              "height": 420
            }
          }
        }
      ]
    },
    {
      "cell_type": "code",
      "source": [
        "# 변수 별 히스토그램 그리기\n",
        "par(mfrow=c(3, 2))\n",
        "hist(data2$calcium); hist(data2$iron); hist(data2$protein); hist(data2$vitaminA); hist(data2$vitaminC)"
      ],
      "metadata": {
        "colab": {
          "base_uri": "https://localhost:8080/",
          "height": 437
        },
        "id": "iScezXmyszO-",
        "outputId": "e7f620b3-41ad-4de8-ae26-befaf5ec6631"
      },
      "execution_count": null,
      "outputs": [
        {
          "output_type": "display_data",
          "data": {
            "text/plain": [
              "Plot with title “Histogram of data2$vitaminC”"
            ],
            "image/png": "[encoded data removed]"
          },
          "metadata": {
            "image/png": {
              "width": 420,
              "height": 420
            }
          }
        }
      ]
    }
  ]
}