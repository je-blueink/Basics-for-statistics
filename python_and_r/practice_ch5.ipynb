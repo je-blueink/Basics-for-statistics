{
 "cells": [
  {
   "cell_type": "markdown",
   "id": "ed743b77",
   "metadata": {},
   "source": [
    "## 자료의 입력 및 출력"
   ]
  },
  {
   "cell_type": "markdown",
   "id": "3b5096a4",
   "metadata": {},
   "source": [
    "#### 책 2. 자연수 n과 실수 p를 명령어 줄에서 입력받아 아래 수식을 계산하는 파이썬 함수를 작성하시오. $$\\sum_{k=1}^n k^p $$"
   ]
  },
  {
   "cell_type": "code",
   "execution_count": 2,
   "id": "5c123f50",
   "metadata": {},
   "outputs": [
    {
     "name": "stdout",
     "output_type": "stream",
     "text": [
      "자연수 입력: 5\n",
      "실수 입력: 2.7\n",
      "1부터  5 까지  2.7 승의 합: 146.27052867535508\n"
     ]
    }
   ],
   "source": [
    "import numpy as np\n",
    "def mysum(x,y):\n",
    "  k = np.arange(x+1)\n",
    "  mysum = 0\n",
    "  for i in k: \n",
    "    mysum = mysum + i**y\n",
    "  return(mysum)\n",
    "\n",
    "n = int(input(\"자연수 입력: \"))\n",
    "p = float(input(\"실수 입력: \"))\n",
    "print(\"1부터 \", n, \"까지 \", p, \"승의 합:\", mysum(n,p))"
   ]
  },
  {
   "cell_type": "markdown",
   "id": "3137e233",
   "metadata": {},
   "source": [
    "#### 책 4. R에 내장된 데이터프레임 iris를 텍스트 파일 iris.txt 로 저장(인코딩 UTF-8, 따옴표 사용 안함, 행번호 저장 안함)하고, 그 파일을 파이썬으로 읽어 데이터프레임으로 저장하시오."
   ]
  },
  {
   "cell_type": "code",
   "execution_count": 1,
   "id": "f86444d9",
   "metadata": {
    "scrolled": true
   },
   "outputs": [
    {
     "name": "stdout",
     "output_type": "stream",
     "text": [
      "   Sepal.Length  Sepal.Width  Petal.Length  Petal.Width Species\n",
      "0           5.1          3.5           1.4          0.2  setosa\n",
      "1           4.9          3.0           1.4          0.2  setosa\n",
      "2           4.7          3.2           1.3          0.2  setosa\n",
      "3           4.6          3.1           1.5          0.2  setosa\n",
      "4           5.0          3.6           1.4          0.2  setosa\n"
     ]
    }
   ],
   "source": [
    "import pandas as pd\n",
    "irisPy = pd.read_csv('C:/Users/bluei/OneDrive - 한국방송통신대학교/문서/KNOU/2022-2/Python_R/iris.txt', \n",
    "                     header=0, sep=' ', encoding='utf-8')\n",
    "print(irisPy.head(5))"
   ]
  },
  {
   "cell_type": "code",
   "execution_count": 5,
   "id": "0d2a7acc",
   "metadata": {},
   "outputs": [],
   "source": [
    "from pandas import DataFrame\n",
    "irisPy.to_csv(r'C:/Users/bluei/OneDrive - 한국방송통신대학교/문서/KNOU/2022-2/Python_R/iris.csv', \n",
    "              sep=' ', index=False, encoding='utf-8')"
   ]
  },
  {
   "cell_type": "markdown",
   "id": "0f360f54",
   "metadata": {},
   "source": [
    "#### 워크북 2. 파이썬에서 명령어 줄 입력을 하려고 한다. (    ) 안에 들어갈 함수는?"
   ]
  },
  {
   "cell_type": "markdown",
   "id": "f0cb4c63",
   "metadata": {},
   "source": [
    "age = (    )(\"Enter age: \")"
   ]
  },
  {
   "cell_type": "code",
   "execution_count": null,
   "id": "e3715728",
   "metadata": {},
   "outputs": [],
   "source": [
    "age = input(\"Enter age: \")"
   ]
  },
  {
   "cell_type": "markdown",
   "id": "8daaa6da",
   "metadata": {},
   "source": [
    "#### 워크북 4. 파이썬에서 iris.txt 파일을 데이터프레임으로 읽어 들이려고 한다. (   )안에 들어갈 함수는?"
   ]
  },
  {
   "cell_type": "markdown",
   "id": "d7e8fa3d",
   "metadata": {},
   "source": [
    "import pandas as pd"
   ]
  },
  {
   "cell_type": "markdown",
   "id": "30de5b87",
   "metadata": {},
   "source": [
    "df1= **<span style=\"color:blue\">pd.read_csv</span>**('d:/hwp.book/PR4DS/source/score.txt', header=0, sep=\" \", encoding='utf-8')"
   ]
  },
  {
   "cell_type": "markdown",
   "id": "cff0142e",
   "metadata": {},
   "source": [
    "#### 워크북 6. 파이썬에서 데이터프레임을 파일로 저장하고자 한다. (   ) 안에 들어갈 명령은?"
   ]
  },
  {
   "cell_type": "markdown",
   "id": "e80ccdf4",
   "metadata": {},
   "source": [
    "from pandas import DataFrame"
   ]
  },
  {
   "cell_type": "markdown",
   "id": "1f6929c1",
   "metadata": {},
   "source": [
    "cars = {'make' : ['Hyundai', 'Kia', 'Ford', 'Chevrolet'], 'model' : ['Sonata', 'K5', 'Taurus', 'Impala'], 'price' : [3200, 3100, 3500, 3700]}"
   ]
  },
  {
   "cell_type": "markdown",
   "id": "72c6a790",
   "metadata": {},
   "source": [
    "df = pd.DataFrame(cars)"
   ]
  },
  {
   "cell_type": "markdown",
   "id": "8f810529",
   "metadata": {},
   "source": [
    "write_txt = **<span style=\"color:blue\">df.to_csv</span>**(r'E:\\hwp\\books\\pr4ds\\cars.txt', sep=\" \", index=True, header=True)"
   ]
  }
 ],
 "metadata": {
  "kernelspec": {
   "display_name": "Python 3 (ipykernel)",
   "language": "python",
   "name": "python3"
  },
  "language_info": {
   "codemirror_mode": {
    "name": "ipython",
    "version": 3
   },
   "file_extension": ".py",
   "mimetype": "text/x-python",
   "name": "python",
   "nbconvert_exporter": "python",
   "pygments_lexer": "ipython3",
   "version": "3.10.6"
  }
 },
 "nbformat": 4,
 "nbformat_minor": 5
}
