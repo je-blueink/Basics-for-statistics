{
 "cells": [
  {
   "cell_type": "markdown",
   "id": "80fcd61e",
   "metadata": {},
   "source": [
    "## 파이썬 구조적 프로그래밍"
   ]
  },
  {
   "cell_type": "markdown",
   "id": "a3aa0e26",
   "metadata": {},
   "source": [
    "#### 2. 다음 파이썬 프로그램에서 ( ) 안에 들어갈 코드는?"
   ]
  },
  {
   "cell_type": "markdown",
   "id": "edd02f5c",
   "metadata": {},
   "source": [
    "def if_test2 (x):\n",
    "    if(x%2==0):\n",
    "     print(\"x는 짝수입니다\")\n",
    "    ( )(x%2==1):\n",
    "        print(\"x는 홀수입니다\")\n",
    "    else:\n",
    "        print(\"x는 자연수가 아닙니다\")"
   ]
  },
  {
   "cell_type": "code",
   "execution_count": 3,
   "id": "8a203ecb",
   "metadata": {},
   "outputs": [
    {
     "name": "stdout",
     "output_type": "stream",
     "text": [
      "x는 자연수가 아닙니다\n"
     ]
    }
   ],
   "source": [
    "def if_test2 (x):\n",
    "    if(x%2==0):\n",
    "        print(\"x는 짝수입니다\")\n",
    "    elif(x%2==1):\n",
    "        print(\"x는 홀수입니다\")\n",
    "    else:\n",
    "        print(\"x는 자연수가 아닙니다\")\n",
    "if_test2(3.14)"
   ]
  },
  {
   "cell_type": "markdown",
   "id": "bd5df087",
   "metadata": {},
   "source": [
    "#### 4. 다음 파이썬 코드를 수행한 결과는?"
   ]
  },
  {
   "cell_type": "code",
   "execution_count": 6,
   "id": "8a38c00b",
   "metadata": {},
   "outputs": [
    {
     "name": "stdout",
     "output_type": "stream",
     "text": [
      "30\n"
     ]
    }
   ],
   "source": [
    "import numpy as np\n",
    "a = np.arange(6,10)  # a = [6, 7, 8, 9]\n",
    "psum = 0\n",
    "for x in a:\n",
    "    psum = psum+x   # psum = 0+6+7+8+9\n",
    "\n",
    "print(psum)"
   ]
  },
  {
   "cell_type": "markdown",
   "id": "91642757",
   "metadata": {},
   "source": [
    "#### 6. 다음 파이썬 코드를 수행한 결과는?"
   ]
  },
  {
   "cell_type": "code",
   "execution_count": 8,
   "id": "431242b0",
   "metadata": {},
   "outputs": [
    {
     "name": "stdout",
     "output_type": "stream",
     "text": [
      "40\n"
     ]
    }
   ],
   "source": [
    "x = 1\n",
    "sum = 10\n",
    "while (x<=4):   # x가 4 이하인 동안 반복\n",
    "    sum = sum + x**2  # 10+1^2+2^2+3^2+4^2\n",
    "    x = x + 1\n",
    "else:\n",
    "    print(sum)"
   ]
  },
  {
   "cell_type": "markdown",
   "id": "59d48c7e",
   "metadata": {},
   "source": [
    "#### 8. 다음 파이썬 코드에서 my_sums(3, 5)의 수행 결과는?"
   ]
  },
  {
   "cell_type": "code",
   "execution_count": 12,
   "id": "e4499113",
   "metadata": {},
   "outputs": [
    {
     "data": {
      "text/plain": [
       "(12, 50, 3)"
      ]
     },
     "execution_count": 12,
     "metadata": {},
     "output_type": "execute_result"
    }
   ],
   "source": [
    "import numpy as np\n",
    "def my_sums(a=0, b=10):  # 매개변수는 a, b 2개 / 기본값은 a=0, b=10\n",
    "    sum1 = 0; sum2 = 0\n",
    "    data = np.arange(a, b+1)  # data는 a~b 에 해당하는 배열\n",
    "    for i in data:\n",
    "        sum1 = sum1 + i       # sum1 = 0 + a + (a+1) + ... + b\n",
    "        sum2 = sum2 + i**2    # sum2 = 0 + a^2 + (a+1)^2 + ... + b^2\n",
    "    return sum1, sum2, len(data)   # 총합, 제곱합, 갯수를 반환\n",
    "\n",
    "my_sums(3, 5)  # sum1 = 3+4+5 ; sum2 = 3^2+4^2+5^2"
   ]
  },
  {
   "cell_type": "markdown",
   "id": "0279b2e0",
   "metadata": {},
   "source": [
    "#### 10. 다음 파이썬 코드에서 a[1]의 수행 결과는?"
   ]
  },
  {
   "cell_type": "code",
   "execution_count": 14,
   "id": "aa852c03",
   "metadata": {},
   "outputs": [
    {
     "name": "stdout",
     "output_type": "stream",
     "text": [
      "50\n"
     ]
    }
   ],
   "source": [
    "import numpy as np\n",
    "def my_sums(a=0, b=10):    # 8번에서 만든 동일한 함수\n",
    "    sum1 = 0; sum2 = 0\n",
    "    data = np.arange(a, b+1)\n",
    "    for i in data:\n",
    "        sum1 = sum1 + i\n",
    "        sum2 = sum2 + i**2\n",
    "    return sum1, sum2, len(data)\n",
    "\n",
    "a = my_sums(3, 5)   # a = [12, 50, 3]\n",
    "print(a[1])   # 배열 a의 1번(2번째) 값"
   ]
  },
  {
   "cell_type": "markdown",
   "id": "175d144d",
   "metadata": {},
   "source": [
    "#### 11. 파이썬에서 Student 클래스를 작성하였다. aa.capital_first( )의 결과는?"
   ]
  },
  {
   "cell_type": "code",
   "execution_count": 19,
   "id": "0bc8d864",
   "metadata": {},
   "outputs": [
    {
     "data": {
      "text/plain": [
       "'DOE'"
      ]
     },
     "execution_count": 19,
     "metadata": {},
     "output_type": "execute_result"
    }
   ],
   "source": [
    "class Student:\n",
    "    def __init__(self, first, last):   # 생성자 : 호출할 객체와 매개변수 first, last 를 설정\n",
    "        self.first = first\n",
    "        self.last = last\n",
    "        \n",
    "    def capital_first(self):    # capital_first 메서드 : first 에 입력된 값을 대문자로 반환\n",
    "        return self.first.upper()\n",
    "    \n",
    "aa = Student('Doe', 'Lee')  # 호출할 객체 = aa ; aa.first='Doe'; aa.last='Lee'\n",
    "aa.capital_first()  # aa.first 에 해당하는 'Doe' 를 대문자로 반환 "
   ]
  }
 ],
 "metadata": {
  "kernelspec": {
   "display_name": "Python 3 (ipykernel)",
   "language": "python",
   "name": "python3"
  },
  "language_info": {
   "codemirror_mode": {
    "name": "ipython",
    "version": 3
   },
   "file_extension": ".py",
   "mimetype": "text/x-python",
   "name": "python",
   "nbconvert_exporter": "python",
   "pygments_lexer": "ipython3",
   "version": "3.10.6"
  }
 },
 "nbformat": 4,
 "nbformat_minor": 5
}
