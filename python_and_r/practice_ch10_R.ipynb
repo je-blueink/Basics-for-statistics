{
  "nbformat": 4,
  "nbformat_minor": 0,
  "metadata": {
    "colab": {
      "provenance": [],
      "authorship_tag": "ABX9TyOfa10/z1Nehqm/5lBoaw5y",
      "include_colab_link": true
    },
    "kernelspec": {
      "name": "ir",
      "display_name": "R"
    },
    "language_info": {
      "name": "R"
    }
  },
  "cells": [
    {
      "cell_type": "markdown",
      "metadata": {
        "id": "view-in-github",
        "colab_type": "text"
      },
      "source": [
        "<a href=\"https://colab.research.google.com/github/je-blueink/Basics-for-statistics/blob/main/python_and_r/practice_ch10_R.ipynb\" target=\"_parent\"><img src=\"https://colab.research.google.com/assets/colab-badge.svg\" alt=\"Open In Colab\"/></a>"
      ]
    },
    {
      "cell_type": "markdown",
      "source": [
        "### 책 3. 다음은 어느 비누 생산공정에서 비누 부스러기 부산물의 양과 공정속도 자료이다. 생산공정은 1번, 2번으로 구분되어 있다.\n",
        "\n",
        "**(1) 공정속도를 설명변수로 하고 부산물의 양을 반응변수로 한 회귀모형을 만들고, 해석하시오.**"
      ],
      "metadata": {
        "id": "t09y6LQjt8uA"
      }
    },
    {
      "cell_type": "code",
      "source": [
        "# 데이터 입력 및 확인\n",
        "data1 <- read.csv('sample_data/soap.csv')\n",
        "head(data1, 3)"
      ],
      "metadata": {
        "colab": {
          "base_uri": "https://localhost:8080/",
          "height": 192
        },
        "id": "7uvRGOVqt_Hf",
        "outputId": "8515831b-850f-47be-acc4-a5af3d774a03"
      },
      "execution_count": null,
      "outputs": [
        {
          "output_type": "display_data",
          "data": {
            "text/html": [
              "<table class=\"dataframe\">\n",
              "<caption>A data.frame: 3 × 3</caption>\n",
              "<thead>\n",
              "\t<tr><th></th><th scope=col>생산공정</th><th scope=col>부산물의양</th><th scope=col>공정속도</th></tr>\n",
              "\t<tr><th></th><th scope=col>&lt;int&gt;</th><th scope=col>&lt;int&gt;</th><th scope=col>&lt;int&gt;</th></tr>\n",
              "</thead>\n",
              "<tbody>\n",
              "\t<tr><th scope=row>1</th><td>1</td><td>218</td><td>100</td></tr>\n",
              "\t<tr><th scope=row>2</th><td>1</td><td>248</td><td>125</td></tr>\n",
              "\t<tr><th scope=row>3</th><td>1</td><td>360</td><td>220</td></tr>\n",
              "</tbody>\n",
              "</table>\n"
            ],
            "text/markdown": "\nA data.frame: 3 × 3\n\n| <!--/--> | 생산공정 &lt;int&gt; | 부산물의양 &lt;int&gt; | 공정속도 &lt;int&gt; |\n|---|---|---|---|\n| 1 | 1 | 218 | 100 |\n| 2 | 1 | 248 | 125 |\n| 3 | 1 | 360 | 220 |\n\n",
            "text/latex": "A data.frame: 3 × 3\n\\begin{tabular}{r|lll}\n  & 생산공정 & 부산물의양 & 공정속도\\\\\n  & <int> & <int> & <int>\\\\\n\\hline\n\t1 & 1 & 218 & 100\\\\\n\t2 & 1 & 248 & 125\\\\\n\t3 & 1 & 360 & 220\\\\\n\\end{tabular}\n",
            "text/plain": [
              "  생산공정 부산물의양 공정속도\n",
              "1 1        218        100     \n",
              "2 1        248        125     \n",
              "3 1        360        220     "
            ]
          },
          "metadata": {}
        }
      ]
    },
    {
      "cell_type": "code",
      "source": [
        "model <- lm(부산물의양~공정속도, data=data1)\n",
        "summary(model)"
      ],
      "metadata": {
        "colab": {
          "base_uri": "https://localhost:8080/",
          "height": 344
        },
        "id": "WLjBtGYCui2-",
        "outputId": "b9106f85-0e90-40a2-f244-dd9bc4810c4e"
      },
      "execution_count": null,
      "outputs": [
        {
          "output_type": "display_data",
          "data": {
            "text/plain": [
              "\n",
              "Call:\n",
              "lm(formula = 부산물의양 ~ 공정속도, data = data1)\n",
              "\n",
              "Residuals:\n",
              "    Min      1Q  Median      3Q     Max \n",
              "-58.389 -26.474  -3.038  33.555  47.611 \n",
              "\n",
              "Coefficients:\n",
              "            Estimate Std. Error t value Pr(>|t|)    \n",
              "(Intercept)  64.0357    23.2488   2.754   0.0108 *  \n",
              "공정속도      1.1963     0.1061  11.280 2.68e-11 ***\n",
              "---\n",
              "Signif. codes:  0 ‘***’ 0.001 ‘**’ 0.01 ‘*’ 0.05 ‘.’ 0.1 ‘ ’ 1\n",
              "\n",
              "Residual standard error: 34.3 on 25 degrees of freedom\n",
              "Multiple R-squared:  0.8358,\tAdjusted R-squared:  0.8292 \n",
              "F-statistic: 127.2 on 1 and 25 DF,  p-value: 2.676e-11\n"
            ]
          },
          "metadata": {}
        }
      ]
    },
    {
      "cell_type": "markdown",
      "source": [
        "적합된 회귀식 :\n",
        "부산물의 양 = 64.0357 + 1.1963*공정속도\n",
        "\n",
        "- 공정속도가 증가함에 따라 부산물의 양도 함께 증가한다.\n",
        "\n",
        "F통계량의 p-값 : 2.676e-11 < 0.05 이므로 위 회귀모형은 통계적으로 의미가 있다.\n",
        "\n",
        "결정계수 : 0.8353 으로, 위 회귀모형은 83.5%의 설명력을 갖는다."
      ],
      "metadata": {
        "id": "Frir4PPFwa0o"
      }
    },
    {
      "cell_type": "markdown",
      "source": [
        "**(2) 생산공정을 두 그룹으로 각각 구분하여, (1)번 회귀모형을 만들고, 해석하시오.**"
      ],
      "metadata": {
        "id": "BZDp7hJ1588K"
      }
    },
    {
      "cell_type": "code",
      "source": [
        "# 생산공정에 따라 두 그룹으로 나누기\n",
        "soap1 <- data1[data1$생산공정==1, -1]\n",
        "soap2 <- data1[data1$생산공정==0, -1]\n",
        "head(soap1, 3); head(soap2, 3)"
      ],
      "metadata": {
        "colab": {
          "base_uri": "https://localhost:8080/",
          "height": 367
        },
        "id": "VJqOd_276OXf",
        "outputId": "bc593053-90b1-4d78-ffca-33963b2f1318"
      },
      "execution_count": null,
      "outputs": [
        {
          "output_type": "display_data",
          "data": {
            "text/html": [
              "<table class=\"dataframe\">\n",
              "<caption>A data.frame: 3 × 2</caption>\n",
              "<thead>\n",
              "\t<tr><th></th><th scope=col>부산물의양</th><th scope=col>공정속도</th></tr>\n",
              "\t<tr><th></th><th scope=col>&lt;int&gt;</th><th scope=col>&lt;int&gt;</th></tr>\n",
              "</thead>\n",
              "<tbody>\n",
              "\t<tr><th scope=row>1</th><td>218</td><td>100</td></tr>\n",
              "\t<tr><th scope=row>2</th><td>248</td><td>125</td></tr>\n",
              "\t<tr><th scope=row>3</th><td>360</td><td>220</td></tr>\n",
              "</tbody>\n",
              "</table>\n"
            ],
            "text/markdown": "\nA data.frame: 3 × 2\n\n| <!--/--> | 부산물의양 &lt;int&gt; | 공정속도 &lt;int&gt; |\n|---|---|---|\n| 1 | 218 | 100 |\n| 2 | 248 | 125 |\n| 3 | 360 | 220 |\n\n",
            "text/latex": "A data.frame: 3 × 2\n\\begin{tabular}{r|ll}\n  & 부산물의양 & 공정속도\\\\\n  & <int> & <int>\\\\\n\\hline\n\t1 & 218 & 100\\\\\n\t2 & 248 & 125\\\\\n\t3 & 360 & 220\\\\\n\\end{tabular}\n",
            "text/plain": [
              "  부산물의양 공정속도\n",
              "1 218        100     \n",
              "2 248        125     \n",
              "3 360        220     "
            ]
          },
          "metadata": {}
        },
        {
          "output_type": "display_data",
          "data": {
            "text/html": [
              "<table class=\"dataframe\">\n",
              "<caption>A data.frame: 3 × 2</caption>\n",
              "<thead>\n",
              "\t<tr><th></th><th scope=col>부산물의양</th><th scope=col>공정속도</th></tr>\n",
              "\t<tr><th></th><th scope=col>&lt;int&gt;</th><th scope=col>&lt;int&gt;</th></tr>\n",
              "</thead>\n",
              "<tbody>\n",
              "\t<tr><th scope=row>16</th><td>140</td><td>105</td></tr>\n",
              "\t<tr><th scope=row>17</th><td>277</td><td>215</td></tr>\n",
              "\t<tr><th scope=row>18</th><td>384</td><td>270</td></tr>\n",
              "</tbody>\n",
              "</table>\n"
            ],
            "text/markdown": "\nA data.frame: 3 × 2\n\n| <!--/--> | 부산물의양 &lt;int&gt; | 공정속도 &lt;int&gt; |\n|---|---|---|\n| 16 | 140 | 105 |\n| 17 | 277 | 215 |\n| 18 | 384 | 270 |\n\n",
            "text/latex": "A data.frame: 3 × 2\n\\begin{tabular}{r|ll}\n  & 부산물의양 & 공정속도\\\\\n  & <int> & <int>\\\\\n\\hline\n\t16 & 140 & 105\\\\\n\t17 & 277 & 215\\\\\n\t18 & 384 & 270\\\\\n\\end{tabular}\n",
            "text/plain": [
              "   부산물의양 공정속도\n",
              "16 140        105     \n",
              "17 277        215     \n",
              "18 384        270     "
            ]
          },
          "metadata": {}
        }
      ]
    },
    {
      "cell_type": "code",
      "source": [
        "# 1번 생산공정 그룹 회귀모형\n",
        "model1 <- lm(부산물의양~공정속도, data=soap1)\n",
        "summary(model1)"
      ],
      "metadata": {
        "colab": {
          "base_uri": "https://localhost:8080/",
          "height": 344
        },
        "id": "yZLXMAZb93lS",
        "outputId": "03185970-73aa-40a9-fd50-20c5d55ddcdb"
      },
      "execution_count": null,
      "outputs": [
        {
          "output_type": "display_data",
          "data": {
            "text/plain": [
              "\n",
              "Call:\n",
              "lm(formula = 부산물의양 ~ 공정속도, data = soap1)\n",
              "\n",
              "Residuals:\n",
              "    Min      1Q  Median      3Q     Max \n",
              "-34.500 -14.403   5.496  16.046  28.418 \n",
              "\n",
              "Coefficients:\n",
              "            Estimate Std. Error t value Pr(>|t|)    \n",
              "(Intercept) 97.96533   20.51430   4.775 0.000362 ***\n",
              "공정속도     1.14539    0.09578  11.959 2.18e-08 ***\n",
              "---\n",
              "Signif. codes:  0 ‘***’ 0.001 ‘**’ 0.01 ‘*’ 0.05 ‘.’ 0.1 ‘ ’ 1\n",
              "\n",
              "Residual standard error: 22.19 on 13 degrees of freedom\n",
              "Multiple R-squared:  0.9167,\tAdjusted R-squared:  0.9103 \n",
              "F-statistic:   143 on 1 and 13 DF,  p-value: 2.177e-08\n"
            ]
          },
          "metadata": {}
        }
      ]
    },
    {
      "cell_type": "code",
      "source": [
        "# 2번 생산공정 그룹 회귀모형\n",
        "model2 <- lm(부산물의양~공정속도, data=soap2)\n",
        "summary(model2)"
      ],
      "metadata": {
        "colab": {
          "base_uri": "https://localhost:8080/",
          "height": 344
        },
        "id": "Nr-4N06y-ng1",
        "outputId": "abf5ade1-d362-43e4-cdbd-e639e24ab441"
      },
      "execution_count": null,
      "outputs": [
        {
          "output_type": "display_data",
          "data": {
            "text/plain": [
              "\n",
              "Call:\n",
              "lm(formula = 부산물의양 ~ 공정속도, data = soap2)\n",
              "\n",
              "Residuals:\n",
              "   Min     1Q Median     3Q    Max \n",
              "-23.93 -10.60  -6.22  12.88  39.51 \n",
              "\n",
              "Coefficients:\n",
              "            Estimate Std. Error t value Pr(>|t|)    \n",
              "(Intercept)  7.57446   18.81855   0.402    0.696    \n",
              "공정속도     1.32205    0.08352  15.829 2.08e-08 ***\n",
              "---\n",
              "Signif. codes:  0 ‘***’ 0.001 ‘**’ 0.01 ‘*’ 0.05 ‘.’ 0.1 ‘ ’ 1\n",
              "\n",
              "Residual standard error: 18.71 on 10 degrees of freedom\n",
              "Multiple R-squared:  0.9616,\tAdjusted R-squared:  0.9578 \n",
              "F-statistic: 250.6 on 1 and 10 DF,  p-value: 2.083e-08\n"
            ]
          },
          "metadata": {}
        }
      ]
    },
    {
      "cell_type": "markdown",
      "source": [
        "#### 1번 생산공정\n",
        "적합된 회귀식 : 부산물의 양 = 97.965 + 1.145*공정속도\n",
        "- 공정속도가 증가함에 따라 부산물의 양도 함께 증가한다.\n",
        "\n",
        "F통계량의 p-값 : 2.177e-08 < 0.05 이므로 위 회귀모형은 통계적으로 의미가 있다.\n",
        "\n",
        "결정계수 : 0.9167 로, 위 회귀모형은 91.7%의 설명력을 갖는다.\n",
        "\n",
        "\n",
        "#### 2번 생산공정\n",
        "적합된 회귀식 : 부산물의 양 = 7.574 + 1.322*공정속도\n",
        "- 공정속도가 증가함에 따라 부산물의 양도 함께 증가한다.\n",
        "\n",
        "F통계량의 p-값 : 2.083e-08 < 0.05 이므로 위 회귀모형은 통계적으로 의미가 있다.\n",
        "\n",
        "결정계수 : 0.9616 으로, 위 회귀모형은 96.1%의 설명력을 갖는다."
      ],
      "metadata": {
        "id": "t0D2gqW1_HZm"
      }
    },
    {
      "cell_type": "markdown",
      "source": [
        "**(3) 공정속도 및 생산공정을 설명변수로 하고, 부산물의 양을 반응변수로 한 회귀모형을 만들고, 해석하시오. (2)번의 결과와 비교하여 보시오.**"
      ],
      "metadata": {
        "id": "BccvTtEW6FEW"
      }
    },
    {
      "cell_type": "code",
      "source": [
        "model3 <- lm(부산물의양 ~ ., data=data1)\n",
        "summary(model3)"
      ],
      "metadata": {
        "colab": {
          "base_uri": "https://localhost:8080/",
          "height": 362
        },
        "id": "ehk34Qe2_8Tw",
        "outputId": "5b23cafb-0eb0-4e6a-9c1c-ef0060a1cca1"
      },
      "execution_count": null,
      "outputs": [
        {
          "output_type": "display_data",
          "data": {
            "text/plain": [
              "\n",
              "Call:\n",
              "lm(formula = 부산물의양 ~ ., data = data1)\n",
              "\n",
              "Residuals:\n",
              "    Min      1Q  Median      3Q     Max \n",
              "-39.557 -14.161  -0.121  17.518  33.953 \n",
              "\n",
              "Coefficients:\n",
              "            Estimate Std. Error t value Pr(>|t|)    \n",
              "(Intercept) 27.28179   15.40701   1.771   0.0893 .  \n",
              "생산공정    53.12920    8.21003   6.471 1.08e-06 ***\n",
              "공정속도     1.23074    0.06555  18.775 7.48e-16 ***\n",
              "---\n",
              "Signif. codes:  0 ‘***’ 0.001 ‘**’ 0.01 ‘*’ 0.05 ‘.’ 0.1 ‘ ’ 1\n",
              "\n",
              "Residual standard error: 21.13 on 24 degrees of freedom\n",
              "Multiple R-squared:  0.9402,\tAdjusted R-squared:  0.9352 \n",
              "F-statistic: 188.6 on 2 and 24 DF,  p-value: 2.104e-15\n"
            ]
          },
          "metadata": {}
        }
      ]
    },
    {
      "cell_type": "markdown",
      "source": [
        "적합된 회귀식 : 부산물의 양 = 27.282 + 53.129생산공정 + 1.231공정속도\n",
        "- 공정속도가 증가함에 따라 부산물의 양도 함께 증가한다.\n",
        "- 생산공정과 부산물의 양은 양의 상관관계를 갖는다. 즉, 2번 생산공정(값=0)보다 1번 생산공정(값=1)에서 부산물의 양이 더 많다\n",
        "\n",
        "F통계량의 p-값 : 2.104e-15 < 0.05 이므로 위 회귀모형은 통계적으로 의미가 있다.\n",
        "\n",
        "모든 회귀계수의 p-값이 0.05 이하이고, 매우 작은 값이므로, 모든 회귀계수는 통계적으로 유의미하다.\n",
        "\n",
        "수정된 결정계수 : 0.9352 로, 위 회귀모형은 93.5%의 설명력을 갖는다.\n",
        "\n",
        "(2)번의 결과와 비교하면, 생산공정을 구분해서 각각 회귀모형을 만들었을 때보다  F통계량의 값이 훨씬 작아졌으므로 설명변수에 생산공정을 포함해서 만든 회귀모형이 통계적으로 더 유의미하다.\n",
        "- model1 F통계량 2.177e-08 / model2 F통계량 2.083e-08 / model3 F통계량 2.104e-15\n",
        "\n"
      ],
      "metadata": {
        "id": "yoGTmpUE6Mxn"
      }
    },
    {
      "cell_type": "markdown",
      "source": [
        "### 워크북 4. R에서 health 데이터 객체에서 변수 time을 반응변수로, 나머지 변수를 설명변수로 한 회귀모형을 적합하고자 한다.\n",
        "\n",
        "\n",
        "\n",
        "```\n",
        "health = health[ , -1]\n",
        "fit = lm(time ~ ., data=health)\n",
        "```"
      ],
      "metadata": {
        "id": "jDn-Rk3UNhab"
      }
    }
  ]
}