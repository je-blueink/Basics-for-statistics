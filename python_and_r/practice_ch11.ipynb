{
 "cells": [
  {
   "cell_type": "markdown",
   "id": "d1ae6850",
   "metadata": {},
   "source": [
    "## 분산분석"
   ]
  },
  {
   "cell_type": "markdown",
   "id": "2cce22d0",
   "metadata": {},
   "source": [
    "#### 책 1. 비누로 얼굴 씻기 실험\n",
    "- (1) 네 가지 방법 간에 차이가 있는지 분석하시오."
   ]
  },
  {
   "cell_type": "code",
   "execution_count": 2,
   "id": "cdf40ae8",
   "metadata": {},
   "outputs": [
    {
     "name": "stdout",
     "output_type": "stream",
     "text": [
      "Collecting researchpy\n",
      "  Downloading researchpy-0.3.5-py3-none-any.whl (33 kB)\n",
      "Requirement already satisfied: statsmodels in c:\\users\\bluei\\python\\lib\\site-packages (from researchpy) (0.13.5)\n",
      "Requirement already satisfied: pandas in c:\\users\\bluei\\python\\lib\\site-packages (from researchpy) (1.4.3)\n",
      "Requirement already satisfied: scipy in c:\\users\\bluei\\python\\lib\\site-packages (from researchpy) (1.9.1)\n",
      "Requirement already satisfied: numpy in c:\\users\\bluei\\python\\lib\\site-packages (from researchpy) (1.23.2)\n",
      "Requirement already satisfied: patsy in c:\\users\\bluei\\python\\lib\\site-packages (from researchpy) (0.5.3)\n",
      "Requirement already satisfied: pytz>=2020.1 in c:\\users\\bluei\\python\\lib\\site-packages (from pandas->researchpy) (2022.2.1)\n",
      "Requirement already satisfied: python-dateutil>=2.8.1 in c:\\users\\bluei\\python\\lib\\site-packages (from pandas->researchpy) (2.8.2)\n",
      "Requirement already satisfied: six in c:\\users\\bluei\\python\\lib\\site-packages (from patsy->researchpy) (1.16.0)\n",
      "Requirement already satisfied: packaging>=21.3 in c:\\users\\bluei\\python\\lib\\site-packages (from statsmodels->researchpy) (21.3)\n",
      "Requirement already satisfied: pyparsing!=3.0.5,>=2.0.2 in c:\\users\\bluei\\python\\lib\\site-packages (from packaging>=21.3->statsmodels->researchpy) (3.0.9)\n",
      "Installing collected packages: researchpy\n",
      "Successfully installed researchpy-0.3.5\n"
     ]
    },
    {
     "name": "stderr",
     "output_type": "stream",
     "text": [
      "\n",
      "[notice] A new release of pip available: 22.2.2 -> 22.3.1\n",
      "[notice] To update, run: python.exe -m pip install --upgrade pip\n"
     ]
    }
   ],
   "source": [
    "! pip install researchpy"
   ]
  },
  {
   "cell_type": "code",
   "execution_count": 3,
   "id": "6a07473d",
   "metadata": {},
   "outputs": [],
   "source": [
    "# 필요한 모듈 불러오기\n",
    "import pandas as pd\n",
    "import researchpy as rp\n",
    "import statsmodels.api as sm\n",
    "from statsmodels.formula.api import ols"
   ]
  },
  {
   "cell_type": "code",
   "execution_count": 6,
   "id": "52918730",
   "metadata": {},
   "outputs": [
    {
     "data": {
      "text/html": [
       "<div>\n",
       "<style scoped>\n",
       "    .dataframe tbody tr th:only-of-type {\n",
       "        vertical-align: middle;\n",
       "    }\n",
       "\n",
       "    .dataframe tbody tr th {\n",
       "        vertical-align: top;\n",
       "    }\n",
       "\n",
       "    .dataframe thead th {\n",
       "        text-align: right;\n",
       "    }\n",
       "</style>\n",
       "<table border=\"1\" class=\"dataframe\">\n",
       "  <thead>\n",
       "    <tr style=\"text-align: right;\">\n",
       "      <th></th>\n",
       "      <th>BacterialCounts</th>\n",
       "      <th>Method</th>\n",
       "    </tr>\n",
       "  </thead>\n",
       "  <tbody>\n",
       "    <tr>\n",
       "      <th>0</th>\n",
       "      <td>74</td>\n",
       "      <td>Water</td>\n",
       "    </tr>\n",
       "    <tr>\n",
       "      <th>1</th>\n",
       "      <td>84</td>\n",
       "      <td>Soap</td>\n",
       "    </tr>\n",
       "    <tr>\n",
       "      <th>2</th>\n",
       "      <td>70</td>\n",
       "      <td>Antibacterial Soap</td>\n",
       "    </tr>\n",
       "    <tr>\n",
       "      <th>3</th>\n",
       "      <td>51</td>\n",
       "      <td>Alcohol Spray</td>\n",
       "    </tr>\n",
       "    <tr>\n",
       "      <th>4</th>\n",
       "      <td>135</td>\n",
       "      <td>Water</td>\n",
       "    </tr>\n",
       "    <tr>\n",
       "      <th>5</th>\n",
       "      <td>51</td>\n",
       "      <td>Soap</td>\n",
       "    </tr>\n",
       "  </tbody>\n",
       "</table>\n",
       "</div>"
      ],
      "text/plain": [
       "   BacterialCounts              Method\n",
       "0               74               Water\n",
       "1               84                Soap\n",
       "2               70  Antibacterial Soap\n",
       "3               51       Alcohol Spray\n",
       "4              135               Water\n",
       "5               51                Soap"
      ]
     },
     "execution_count": 6,
     "metadata": {},
     "output_type": "execute_result"
    }
   ],
   "source": [
    "# 데이터 불러오기\n",
    "wash = pd.read_csv(\"C:/Users/bluei/OneDrive - 한국방송통신대학교/문서/KNOU/2022-2/Python_R/rpython/bacteriasoap.csv\")\n",
    "wash.head(6)"
   ]
  },
  {
   "cell_type": "code",
   "execution_count": 25,
   "id": "4c5c79dc",
   "metadata": {},
   "outputs": [
    {
     "data": {
      "text/html": [
       "<table class=\"simpletable\">\n",
       "<caption>OLS Regression Results</caption>\n",
       "<tr>\n",
       "  <th>Dep. Variable:</th>    <td>wash.BacterialCounts</td> <th>  R-squared:         </th> <td>   0.431</td>\n",
       "</tr>\n",
       "<tr>\n",
       "  <th>Model:</th>                     <td>OLS</td>         <th>  Adj. R-squared:    </th> <td>   0.370</td>\n",
       "</tr>\n",
       "<tr>\n",
       "  <th>Method:</th>               <td>Least Squares</td>    <th>  F-statistic:       </th> <td>   7.064</td>\n",
       "</tr>\n",
       "<tr>\n",
       "  <th>Date:</th>               <td>Wed, 30 Nov 2022</td>   <th>  Prob (F-statistic):</th>  <td>0.00111</td>\n",
       "</tr>\n",
       "<tr>\n",
       "  <th>Time:</th>                   <td>21:13:41</td>       <th>  Log-Likelihood:    </th> <td> -159.29</td>\n",
       "</tr>\n",
       "<tr>\n",
       "  <th>No. Observations:</th>        <td>    32</td>        <th>  AIC:               </th> <td>   326.6</td>\n",
       "</tr>\n",
       "<tr>\n",
       "  <th>Df Residuals:</th>            <td>    28</td>        <th>  BIC:               </th> <td>   332.4</td>\n",
       "</tr>\n",
       "<tr>\n",
       "  <th>Df Model:</th>                <td>     3</td>        <th>                     </th>     <td> </td>   \n",
       "</tr>\n",
       "<tr>\n",
       "  <th>Covariance Type:</th>        <td>nonrobust</td>      <th>                     </th>     <td> </td>   \n",
       "</tr>\n",
       "</table>\n",
       "<table class=\"simpletable\">\n",
       "<tr>\n",
       "                    <td></td>                      <th>coef</th>     <th>std err</th>      <th>t</th>      <th>P>|t|</th>  <th>[0.025</th>    <th>0.975]</th>  \n",
       "</tr>\n",
       "<tr>\n",
       "  <th>Intercept</th>                            <td>   37.5000</td> <td>   13.277</td> <td>    2.825</td> <td> 0.009</td> <td>   10.304</td> <td>   64.696</td>\n",
       "</tr>\n",
       "<tr>\n",
       "  <th>C(wash.Method)[T.Antibacterial Soap]</th> <td>   55.0000</td> <td>   18.776</td> <td>    2.929</td> <td> 0.007</td> <td>   16.539</td> <td>   93.461</td>\n",
       "</tr>\n",
       "<tr>\n",
       "  <th>C(wash.Method)[T.Soap]</th>               <td>   68.5000</td> <td>   18.776</td> <td>    3.648</td> <td> 0.001</td> <td>   30.039</td> <td>  106.961</td>\n",
       "</tr>\n",
       "<tr>\n",
       "  <th>C(wash.Method)[T.Water]</th>              <td>   79.5000</td> <td>   18.776</td> <td>    4.234</td> <td> 0.000</td> <td>   41.039</td> <td>  117.961</td>\n",
       "</tr>\n",
       "</table>\n",
       "<table class=\"simpletable\">\n",
       "<tr>\n",
       "  <th>Omnibus:</th>       <td> 4.784</td> <th>  Durbin-Watson:     </th> <td>   2.569</td>\n",
       "</tr>\n",
       "<tr>\n",
       "  <th>Prob(Omnibus):</th> <td> 0.091</td> <th>  Jarque-Bera (JB):  </th> <td>   3.194</td>\n",
       "</tr>\n",
       "<tr>\n",
       "  <th>Skew:</th>          <td> 0.638</td> <th>  Prob(JB):          </th> <td>   0.202</td>\n",
       "</tr>\n",
       "<tr>\n",
       "  <th>Kurtosis:</th>      <td> 3.875</td> <th>  Cond. No.          </th> <td>    4.79</td>\n",
       "</tr>\n",
       "</table><br/><br/>Notes:<br/>[1] Standard Errors assume that the covariance matrix of the errors is correctly specified."
      ],
      "text/plain": [
       "<class 'statsmodels.iolib.summary.Summary'>\n",
       "\"\"\"\n",
       "                             OLS Regression Results                             \n",
       "================================================================================\n",
       "Dep. Variable:     wash.BacterialCounts   R-squared:                       0.431\n",
       "Model:                              OLS   Adj. R-squared:                  0.370\n",
       "Method:                   Least Squares   F-statistic:                     7.064\n",
       "Date:                  Wed, 30 Nov 2022   Prob (F-statistic):            0.00111\n",
       "Time:                          21:13:41   Log-Likelihood:                -159.29\n",
       "No. Observations:                    32   AIC:                             326.6\n",
       "Df Residuals:                        28   BIC:                             332.4\n",
       "Df Model:                             3                                         \n",
       "Covariance Type:              nonrobust                                         \n",
       "========================================================================================================\n",
       "                                           coef    std err          t      P>|t|      [0.025      0.975]\n",
       "--------------------------------------------------------------------------------------------------------\n",
       "Intercept                               37.5000     13.277      2.825      0.009      10.304      64.696\n",
       "C(wash.Method)[T.Antibacterial Soap]    55.0000     18.776      2.929      0.007      16.539      93.461\n",
       "C(wash.Method)[T.Soap]                  68.5000     18.776      3.648      0.001      30.039     106.961\n",
       "C(wash.Method)[T.Water]                 79.5000     18.776      4.234      0.000      41.039     117.961\n",
       "==============================================================================\n",
       "Omnibus:                        4.784   Durbin-Watson:                   2.569\n",
       "Prob(Omnibus):                  0.091   Jarque-Bera (JB):                3.194\n",
       "Skew:                           0.638   Prob(JB):                        0.202\n",
       "Kurtosis:                       3.875   Cond. No.                         4.79\n",
       "==============================================================================\n",
       "\n",
       "Notes:\n",
       "[1] Standard Errors assume that the covariance matrix of the errors is correctly specified.\n",
       "\"\"\""
      ]
     },
     "execution_count": 25,
     "metadata": {},
     "output_type": "execute_result"
    }
   ],
   "source": [
    "# 분산분석 선형 모형 적합\n",
    "fit1 = ols('wash.BacterialCounts ~ C(wash.Method)', data = wash).fit()\n",
    "fit1.summary()"
   ]
  },
  {
   "cell_type": "code",
   "execution_count": 8,
   "id": "a74f2216",
   "metadata": {},
   "outputs": [
    {
     "data": {
      "text/html": [
       "<div>\n",
       "<style scoped>\n",
       "    .dataframe tbody tr th:only-of-type {\n",
       "        vertical-align: middle;\n",
       "    }\n",
       "\n",
       "    .dataframe tbody tr th {\n",
       "        vertical-align: top;\n",
       "    }\n",
       "\n",
       "    .dataframe thead th {\n",
       "        text-align: right;\n",
       "    }\n",
       "</style>\n",
       "<table border=\"1\" class=\"dataframe\">\n",
       "  <thead>\n",
       "    <tr style=\"text-align: right;\">\n",
       "      <th></th>\n",
       "      <th>sum_sq</th>\n",
       "      <th>df</th>\n",
       "      <th>F</th>\n",
       "      <th>PR(&gt;F)</th>\n",
       "    </tr>\n",
       "  </thead>\n",
       "  <tbody>\n",
       "    <tr>\n",
       "      <th>C(wash.Method)</th>\n",
       "      <td>29882.0</td>\n",
       "      <td>3.0</td>\n",
       "      <td>7.063587</td>\n",
       "      <td>0.001111</td>\n",
       "    </tr>\n",
       "    <tr>\n",
       "      <th>Residual</th>\n",
       "      <td>39484.0</td>\n",
       "      <td>28.0</td>\n",
       "      <td>NaN</td>\n",
       "      <td>NaN</td>\n",
       "    </tr>\n",
       "  </tbody>\n",
       "</table>\n",
       "</div>"
      ],
      "text/plain": [
       "                 sum_sq    df         F    PR(>F)\n",
       "C(wash.Method)  29882.0   3.0  7.063587  0.001111\n",
       "Residual        39484.0  28.0       NaN       NaN"
      ]
     },
     "execution_count": 8,
     "metadata": {},
     "output_type": "execute_result"
    }
   ],
   "source": [
    "# 일원배치 분산분석표\n",
    "aov_fit1 = sm.stats.anova_lm(fit1, typ=2)\n",
    "aov_fit1"
   ]
  },
  {
   "cell_type": "markdown",
   "id": "e60044ff",
   "metadata": {},
   "source": [
    "- 평균 차이에 대한 유의확률이 0.001 로 0.05보다 작으므로, 각 수준(세정 방법) 별 평균에 차이가 없다는 귀무가설을 기각한다. 즉, 세정 방법 간에 차이가 있다고 할 수 있다."
   ]
  },
  {
   "cell_type": "markdown",
   "id": "037325cc",
   "metadata": {},
   "source": [
    "- (2) 각 그룹 간에 차이가 있는지 다중비교를 통해 분석하시오."
   ]
  },
  {
   "cell_type": "code",
   "execution_count": 9,
   "id": "10104cf5",
   "metadata": {},
   "outputs": [],
   "source": [
    "# 필요한 모듈 불러오기\n",
    "from statsmodels.stats.multicomp import pairwise_tukeyhsd\n",
    "from statsmodels.stats.multicomp import MultiComparison"
   ]
  },
  {
   "cell_type": "code",
   "execution_count": 12,
   "id": "b94ea853",
   "metadata": {},
   "outputs": [
    {
     "name": "stdout",
     "output_type": "stream",
     "text": [
      "             Multiple Comparison of Means - Tukey HSD, FWER=0.05              \n",
      "==============================================================================\n",
      "      group1             group2       meandiff p-adj   lower    upper   reject\n",
      "------------------------------------------------------------------------------\n",
      "     Alcohol Spray Antibacterial Soap     55.0  0.032   3.7358 106.2642   True\n",
      "     Alcohol Spray               Soap     68.5 0.0056  17.2358 119.7642   True\n",
      "     Alcohol Spray              Water     79.5 0.0012  28.2358 130.7642   True\n",
      "Antibacterial Soap               Soap     13.5 0.8887 -37.7642  64.7642  False\n",
      "Antibacterial Soap              Water     24.5 0.5676 -26.7642  75.7642  False\n",
      "              Soap              Water     11.0 0.9355 -40.2642  62.2642  False\n",
      "------------------------------------------------------------------------------\n"
     ]
    }
   ],
   "source": [
    "# 다중비교, Tukey 방식\n",
    "mc1 = MultiComparison(wash['BacterialCounts'], wash['Method'])\n",
    "mc1_tukey = mc1.tukeyhsd()\n",
    "print(mc1_tukey)"
   ]
  },
  {
   "cell_type": "markdown",
   "id": "4b6a7571",
   "metadata": {},
   "source": [
    "- '스프레이 손에 뿌리고 씻기' 방법은 '안티박테리아 비누로 얼굴 씻기', '일반 비누로 얼굴 씻기', '물로만 얼굴 씻기' 세 가지 방법 모두와 통계적으로 유의한 차이가 있다.\n",
    "- '안티박테리아 비누로 얼굴 씻기', '일반 비누로 얼굴 씻기',  '물로만 얼굴 씻기', 세 그룹은 서로 유의한 차이가 없다."
   ]
  },
  {
   "cell_type": "markdown",
   "id": "b649f23f",
   "metadata": {},
   "source": [
    "#### 책 2. 시간대별로 다운로드 하는데 걸리는 시간 측정\n",
    "- (1) 세 가지 시간대별로 다운로드에 걸리는 시간이 다른지 분석하시오."
   ]
  },
  {
   "cell_type": "code",
   "execution_count": 30,
   "id": "bd4d8c49",
   "metadata": {
    "scrolled": true
   },
   "outputs": [
    {
     "data": {
      "text/html": [
       "<div>\n",
       "<style scoped>\n",
       "    .dataframe tbody tr th:only-of-type {\n",
       "        vertical-align: middle;\n",
       "    }\n",
       "\n",
       "    .dataframe tbody tr th {\n",
       "        vertical-align: top;\n",
       "    }\n",
       "\n",
       "    .dataframe thead th {\n",
       "        text-align: right;\n",
       "    }\n",
       "</style>\n",
       "<table border=\"1\" class=\"dataframe\">\n",
       "  <thead>\n",
       "    <tr style=\"text-align: right;\">\n",
       "      <th></th>\n",
       "      <th>TimeofDay</th>\n",
       "      <th>Time(Sec)</th>\n",
       "    </tr>\n",
       "  </thead>\n",
       "  <tbody>\n",
       "    <tr>\n",
       "      <th>0</th>\n",
       "      <td>Early (7AM)</td>\n",
       "      <td>68</td>\n",
       "    </tr>\n",
       "    <tr>\n",
       "      <th>1</th>\n",
       "      <td>Early (7AM)</td>\n",
       "      <td>138</td>\n",
       "    </tr>\n",
       "    <tr>\n",
       "      <th>2</th>\n",
       "      <td>Early (7AM)</td>\n",
       "      <td>75</td>\n",
       "    </tr>\n",
       "  </tbody>\n",
       "</table>\n",
       "</div>"
      ],
      "text/plain": [
       "     TimeofDay  Time(Sec)\n",
       "0  Early (7AM)         68\n",
       "1  Early (7AM)        138\n",
       "2  Early (7AM)         75"
      ]
     },
     "execution_count": 30,
     "metadata": {},
     "output_type": "execute_result"
    }
   ],
   "source": [
    "# 데이터 불러오기\n",
    "download = pd.read_csv(\"C:/Users/bluei/OneDrive - 한국방송통신대학교/문서/KNOU/2022-2/Python_R/rpython/downloading.csv\")\n",
    "download.head(3)"
   ]
  },
  {
   "cell_type": "code",
   "execution_count": 35,
   "id": "58f4d7d5",
   "metadata": {},
   "outputs": [
    {
     "data": {
      "text/html": [
       "<div>\n",
       "<style scoped>\n",
       "    .dataframe tbody tr th:only-of-type {\n",
       "        vertical-align: middle;\n",
       "    }\n",
       "\n",
       "    .dataframe tbody tr th {\n",
       "        vertical-align: top;\n",
       "    }\n",
       "\n",
       "    .dataframe thead th {\n",
       "        text-align: right;\n",
       "    }\n",
       "</style>\n",
       "<table border=\"1\" class=\"dataframe\">\n",
       "  <thead>\n",
       "    <tr style=\"text-align: right;\">\n",
       "      <th></th>\n",
       "      <th>sec</th>\n",
       "      <th>td</th>\n",
       "    </tr>\n",
       "  </thead>\n",
       "  <tbody>\n",
       "    <tr>\n",
       "      <th>0</th>\n",
       "      <td>68</td>\n",
       "      <td>Early (7AM)</td>\n",
       "    </tr>\n",
       "    <tr>\n",
       "      <th>1</th>\n",
       "      <td>138</td>\n",
       "      <td>Early (7AM)</td>\n",
       "    </tr>\n",
       "    <tr>\n",
       "      <th>2</th>\n",
       "      <td>75</td>\n",
       "      <td>Early (7AM)</td>\n",
       "    </tr>\n",
       "  </tbody>\n",
       "</table>\n",
       "</div>"
      ],
      "text/plain": [
       "   sec           td\n",
       "0   68  Early (7AM)\n",
       "1  138  Early (7AM)\n",
       "2   75  Early (7AM)"
      ]
     },
     "execution_count": 35,
     "metadata": {},
     "output_type": "execute_result"
    }
   ],
   "source": [
    "download.columns = ['td', 'sec']\n",
    "download = download[['sec', 'td']]\n",
    "download.head(3)"
   ]
  },
  {
   "cell_type": "code",
   "execution_count": 36,
   "id": "865d5ab6",
   "metadata": {},
   "outputs": [
    {
     "data": {
      "text/html": [
       "<table class=\"simpletable\">\n",
       "<caption>OLS Regression Results</caption>\n",
       "<tr>\n",
       "  <th>Dep. Variable:</th>      <td>download.sec</td>   <th>  R-squared:         </th> <td>   0.672</td>\n",
       "</tr>\n",
       "<tr>\n",
       "  <th>Model:</th>                   <td>OLS</td>       <th>  Adj. R-squared:    </th> <td>   0.657</td>\n",
       "</tr>\n",
       "<tr>\n",
       "  <th>Method:</th>             <td>Least Squares</td>  <th>  F-statistic:       </th> <td>   46.03</td>\n",
       "</tr>\n",
       "<tr>\n",
       "  <th>Date:</th>             <td>Wed, 30 Nov 2022</td> <th>  Prob (F-statistic):</th> <td>1.31e-11</td>\n",
       "</tr>\n",
       "<tr>\n",
       "  <th>Time:</th>                 <td>21:29:34</td>     <th>  Log-Likelihood:    </th> <td> -251.52</td>\n",
       "</tr>\n",
       "<tr>\n",
       "  <th>No. Observations:</th>      <td>    48</td>      <th>  AIC:               </th> <td>   509.0</td>\n",
       "</tr>\n",
       "<tr>\n",
       "  <th>Df Residuals:</th>          <td>    45</td>      <th>  BIC:               </th> <td>   514.6</td>\n",
       "</tr>\n",
       "<tr>\n",
       "  <th>Df Model:</th>              <td>     2</td>      <th>                     </th>     <td> </td>   \n",
       "</tr>\n",
       "<tr>\n",
       "  <th>Covariance Type:</th>      <td>nonrobust</td>    <th>                     </th>     <td> </td>   \n",
       "</tr>\n",
       "</table>\n",
       "<table class=\"simpletable\">\n",
       "<tr>\n",
       "                    <td></td>                      <th>coef</th>     <th>std err</th>      <th>t</th>      <th>P>|t|</th>  <th>[0.025</th>    <th>0.975]</th>  \n",
       "</tr>\n",
       "<tr>\n",
       "  <th>Intercept</th>                            <td>  113.3750</td> <td>   11.786</td> <td>    9.619</td> <td> 0.000</td> <td>   89.636</td> <td>  137.114</td>\n",
       "</tr>\n",
       "<tr>\n",
       "  <th>C(download.td)[T.Evening (5 PM)]</th>     <td>  159.9375</td> <td>   16.668</td> <td>    9.595</td> <td> 0.000</td> <td>  126.366</td> <td>  193.509</td>\n",
       "</tr>\n",
       "<tr>\n",
       "  <th>C(download.td)[T.Late Night (12 AM)]</th> <td>   79.6875</td> <td>   16.668</td> <td>    4.781</td> <td> 0.000</td> <td>   46.116</td> <td>  113.259</td>\n",
       "</tr>\n",
       "</table>\n",
       "<table class=\"simpletable\">\n",
       "<tr>\n",
       "  <th>Omnibus:</th>       <td> 1.641</td> <th>  Durbin-Watson:     </th> <td>   2.265</td>\n",
       "</tr>\n",
       "<tr>\n",
       "  <th>Prob(Omnibus):</th> <td> 0.440</td> <th>  Jarque-Bera (JB):  </th> <td>   1.497</td>\n",
       "</tr>\n",
       "<tr>\n",
       "  <th>Skew:</th>          <td> 0.309</td> <th>  Prob(JB):          </th> <td>   0.473</td>\n",
       "</tr>\n",
       "<tr>\n",
       "  <th>Kurtosis:</th>      <td> 2.394</td> <th>  Cond. No.          </th> <td>    3.73</td>\n",
       "</tr>\n",
       "</table><br/><br/>Notes:<br/>[1] Standard Errors assume that the covariance matrix of the errors is correctly specified."
      ],
      "text/plain": [
       "<class 'statsmodels.iolib.summary.Summary'>\n",
       "\"\"\"\n",
       "                            OLS Regression Results                            \n",
       "==============================================================================\n",
       "Dep. Variable:           download.sec   R-squared:                       0.672\n",
       "Model:                            OLS   Adj. R-squared:                  0.657\n",
       "Method:                 Least Squares   F-statistic:                     46.03\n",
       "Date:                Wed, 30 Nov 2022   Prob (F-statistic):           1.31e-11\n",
       "Time:                        21:29:34   Log-Likelihood:                -251.52\n",
       "No. Observations:                  48   AIC:                             509.0\n",
       "Df Residuals:                      45   BIC:                             514.6\n",
       "Df Model:                           2                                         \n",
       "Covariance Type:            nonrobust                                         \n",
       "========================================================================================================\n",
       "                                           coef    std err          t      P>|t|      [0.025      0.975]\n",
       "--------------------------------------------------------------------------------------------------------\n",
       "Intercept                              113.3750     11.786      9.619      0.000      89.636     137.114\n",
       "C(download.td)[T.Evening (5 PM)]       159.9375     16.668      9.595      0.000     126.366     193.509\n",
       "C(download.td)[T.Late Night (12 AM)]    79.6875     16.668      4.781      0.000      46.116     113.259\n",
       "==============================================================================\n",
       "Omnibus:                        1.641   Durbin-Watson:                   2.265\n",
       "Prob(Omnibus):                  0.440   Jarque-Bera (JB):                1.497\n",
       "Skew:                           0.309   Prob(JB):                        0.473\n",
       "Kurtosis:                       2.394   Cond. No.                         3.73\n",
       "==============================================================================\n",
       "\n",
       "Notes:\n",
       "[1] Standard Errors assume that the covariance matrix of the errors is correctly specified.\n",
       "\"\"\""
      ]
     },
     "execution_count": 36,
     "metadata": {},
     "output_type": "execute_result"
    }
   ],
   "source": [
    "# 분산분석 선형 모형 적합\n",
    "fit2 = ols('download.sec ~ C(download.td)', data = download).fit()\n",
    "fit2.summary()"
   ]
  },
  {
   "cell_type": "code",
   "execution_count": 37,
   "id": "f5b347fa",
   "metadata": {},
   "outputs": [
    {
     "data": {
      "text/html": [
       "<div>\n",
       "<style scoped>\n",
       "    .dataframe tbody tr th:only-of-type {\n",
       "        vertical-align: middle;\n",
       "    }\n",
       "\n",
       "    .dataframe tbody tr th {\n",
       "        vertical-align: top;\n",
       "    }\n",
       "\n",
       "    .dataframe thead th {\n",
       "        text-align: right;\n",
       "    }\n",
       "</style>\n",
       "<table border=\"1\" class=\"dataframe\">\n",
       "  <thead>\n",
       "    <tr style=\"text-align: right;\">\n",
       "      <th></th>\n",
       "      <th>sum_sq</th>\n",
       "      <th>df</th>\n",
       "      <th>F</th>\n",
       "      <th>PR(&gt;F)</th>\n",
       "    </tr>\n",
       "  </thead>\n",
       "  <tbody>\n",
       "    <tr>\n",
       "      <th>C(download.td)</th>\n",
       "      <td>204640.875</td>\n",
       "      <td>2.0</td>\n",
       "      <td>46.034932</td>\n",
       "      <td>1.306432e-11</td>\n",
       "    </tr>\n",
       "    <tr>\n",
       "      <th>Residual</th>\n",
       "      <td>100020.125</td>\n",
       "      <td>45.0</td>\n",
       "      <td>NaN</td>\n",
       "      <td>NaN</td>\n",
       "    </tr>\n",
       "  </tbody>\n",
       "</table>\n",
       "</div>"
      ],
      "text/plain": [
       "                    sum_sq    df          F        PR(>F)\n",
       "C(download.td)  204640.875   2.0  46.034932  1.306432e-11\n",
       "Residual        100020.125  45.0        NaN           NaN"
      ]
     },
     "execution_count": 37,
     "metadata": {},
     "output_type": "execute_result"
    }
   ],
   "source": [
    "# 일원배치 분산분석표\n",
    "aov_fit2 = sm.stats.anova_lm(fit2, typ=2)\n",
    "aov_fit2"
   ]
  },
  {
   "cell_type": "markdown",
   "id": "e1c0fa8e",
   "metadata": {},
   "source": [
    "- 평균 차이에 대한 유의확률이 1.306432^e-11 로 0.05보다 작으므로, 각 수준(시간대) 별 평균에 차이가 없다는 귀무가설을 기각한다. 즉, 시간대별로 다운로드하는 데 걸리는 시간이 차이가 있다고 할 수 있다."
   ]
  },
  {
   "cell_type": "markdown",
   "id": "033bef63",
   "metadata": {},
   "source": [
    "- (2) 각 시간대별로 차이가 있는지 다중비교를 통해 분석하시오."
   ]
  },
  {
   "cell_type": "code",
   "execution_count": 38,
   "id": "bdd1b571",
   "metadata": {},
   "outputs": [
    {
     "name": "stdout",
     "output_type": "stream",
     "text": [
      "            Multiple Comparison of Means - Tukey HSD, FWER=0.05            \n",
      "===========================================================================\n",
      "    group1           group2       meandiff p-adj    lower    upper   reject\n",
      "---------------------------------------------------------------------------\n",
      "   Early (7AM)     Evening (5 PM) 159.9375    0.0  119.5399 200.3351   True\n",
      "   Early (7AM) Late Night (12 AM)  79.6875 0.0001   39.2899 120.0851   True\n",
      "Evening (5 PM) Late Night (12 AM)   -80.25    0.0 -120.6476 -39.8524   True\n",
      "---------------------------------------------------------------------------\n"
     ]
    }
   ],
   "source": [
    "# 다중비교, Tukey 방식\n",
    "mc2 = MultiComparison(download['sec'], download['td'])\n",
    "mc2_tukey = mc2.tukeyhsd()\n",
    "print(mc2_tukey)"
   ]
  },
  {
   "cell_type": "markdown",
   "id": "8121ba2c",
   "metadata": {},
   "source": [
    "- 세 가지 시간대별로 다운로드 시간에 모두 유의한 차이가 있다."
   ]
  }
 ],
 "metadata": {
  "kernelspec": {
   "display_name": "Python 3 (ipykernel)",
   "language": "python",
   "name": "python3"
  },
  "language_info": {
   "codemirror_mode": {
    "name": "ipython",
    "version": 3
   },
   "file_extension": ".py",
   "mimetype": "text/x-python",
   "name": "python",
   "nbconvert_exporter": "python",
   "pygments_lexer": "ipython3",
   "version": "3.10.6"
  }
 },
 "nbformat": 4,
 "nbformat_minor": 5
}
