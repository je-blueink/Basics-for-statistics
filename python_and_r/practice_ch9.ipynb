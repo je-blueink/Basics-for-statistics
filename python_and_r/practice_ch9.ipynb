{
 "cells": [
  {
   "cell_type": "markdown",
   "id": "a362ade9",
   "metadata": {},
   "source": [
    "## 모집단의 평균 검정"
   ]
  },
  {
   "cell_type": "markdown",
   "id": "de4dca6f",
   "metadata": {},
   "source": [
    "#### 책 5. 어떤 화학약품의 제조에 상표가 다른 두 종류의 원료가 사용되고 있다. 각 원료에서 주성분의 함량은 다음과 같다. 이 두 원료의 주성분 함량이 다르다고 할 수 있는지 분석하시오.\n",
    "\n",
    "|상표1|80.4|78.2|80.1|77.1|79.6|80.4|81.6|79.9|84.4|80.9|83.1|\n",
    "|:---|:---|:---|:---|:---|:---|:---|:---|:---|:---|:---|:---|\n",
    "|상표2|80.1|81.2|79.5|78.0|76.1|77.0|80.1|79.9|78.8|80.8||"
   ]
  },
  {
   "cell_type": "code",
   "execution_count": 3,
   "id": "2245fe8d",
   "metadata": {},
   "outputs": [],
   "source": [
    "# 필요한 패키지 준비\n",
    "import pandas as pd\n",
    "import numpy as np\n",
    "from scipy import stats"
   ]
  },
  {
   "cell_type": "code",
   "execution_count": 6,
   "id": "d9b5596a",
   "metadata": {},
   "outputs": [],
   "source": [
    "# 데이터 입력\n",
    "che1 = np.array([80.4, 78.2, 80.1, 77.1, 79.6, 80.4, 81.6, 79.9, 84.4, 80.9, 83.1])\n",
    "che2 = np.array([80.1, 81.2, 79.5, 78.0, 76.1, 77.0, 80.1, 79.9, 78.8, 80.8])"
   ]
  },
  {
   "cell_type": "code",
   "execution_count": 10,
   "id": "cdf0bea2",
   "metadata": {},
   "outputs": [
    {
     "data": {
      "text/plain": [
       "LeveneResult(statistic=0.061065969963964246, pvalue=0.8074695158061581)"
      ]
     },
     "execution_count": 10,
     "metadata": {},
     "output_type": "execute_result"
    }
   ],
   "source": [
    "# 분산 동일성 검정\n",
    "stats.levene(che1, che2)"
   ]
  },
  {
   "cell_type": "markdown",
   "id": "122c0f9c",
   "metadata": {},
   "source": [
    "- 등분산 검정 방법 2가지 : barlett 검정(정규분포를 띌 때만 사용 가능) / levene 검정 (정규성과 무관하게 사용 가능)\n",
    "- 이 문제에서는 데이터의 정규성을 알 수 없기 때문에 levene 검정을 사용함"
   ]
  },
  {
   "cell_type": "markdown",
   "id": "cd035ec1",
   "metadata": {},
   "source": [
    "* p-밸류가 0.807로 큰 값이 나왔으므로 che1과 che2 자료의 분산은 동일하다는 가정을 받아들인다. "
   ]
  },
  {
   "cell_type": "code",
   "execution_count": 12,
   "id": "871fdf9d",
   "metadata": {},
   "outputs": [
    {
     "name": "stdout",
     "output_type": "stream",
     "text": [
      "등분산 가정 시 검정 결과 : t-value = 1.676, p-value = 0.110\n"
     ]
    }
   ],
   "source": [
    "# 독립표본 평군 검정 (H0 : 두 그룹의 평균은 동일하다)\n",
    "che_ttest = stats.ttest_ind(che1, che2, equal_var=True)\n",
    "print(\"등분산 가정 시 검정 결과 : t-value = %.3f, p-value = %.3f\"%che_ttest)"
   ]
  },
  {
   "cell_type": "markdown",
   "id": "4e032b17",
   "metadata": {},
   "source": [
    "* p-밸류 = 0.110 이므로, H0를 기각할 수 없다. 따라서 두 원료의 주성분 함량이 다르다고 할 수 없다."
   ]
  },
  {
   "cell_type": "markdown",
   "id": "a8a540bd",
   "metadata": {},
   "source": [
    "#### 책 6. 특정 피임약이 사용자의 혈압을 저하시키는가를 조사하고자 한다. 이를 위해 15명의 부인들을 대상으로 평상시 혈압을 측정한 뒤 이들에게 이 피임약을 일정 기간 사용하게 한 후 이들의 혈압을 다시 측정한 결과를 기록했다. 자료는 다음과 같다. 피임약 복용이 혈압에 영향을 주는지 검정하시오.\n",
    "\n",
    "|부인|1|2|3|4|5|6|7|8|9|10|11|12|13|14|15|\n",
    "|:---|:---|:---|:---|:---|:---|:---|:---|:---|:---|:---|:---|:---|:---|:---|:---|\n",
    "|사용 전|70|80|72|76|76|76|72|78|82|64|74|92|74|68|84|\n",
    "|사용 후|68|72|62|70|58|66|68|52|64|72|74|60|74|72|74|"
   ]
  },
  {
   "cell_type": "code",
   "execution_count": 14,
   "id": "0c91c22a",
   "metadata": {},
   "outputs": [],
   "source": [
    "# 데이터 입력\n",
    "before = np.array([70, 80, 72, 76, 76, 76, 72, 78, 82, 64, 74, 92, 74, 68, 84])\n",
    "after = np.array([68, 72, 62, 70, 58, 66, 68, 52, 64, 72, 74, 60, 74, 72, 74])"
   ]
  },
  {
   "cell_type": "code",
   "execution_count": 15,
   "id": "311a4ffa",
   "metadata": {},
   "outputs": [
    {
     "data": {
      "text/plain": [
       "Ttest_relResult(statistic=3.105360487466109, pvalue=0.007749436106654119)"
      ]
     },
     "execution_count": 15,
     "metadata": {},
     "output_type": "execute_result"
    }
   ],
   "source": [
    "# 대응표본 평균 검정 ( H0: mu_before = mu_after)\n",
    "pills_pttest = stats.ttest_rel(before, after)\n",
    "pills_pttest"
   ]
  },
  {
   "cell_type": "markdown",
   "id": "b07b2934",
   "metadata": {},
   "source": [
    "* p-밸류 = 0.007749 이므로 H0 기각, 약 사용 전후 혈압에 차이가 있다고 할 수 있다. 따라서 피임약 복용이 혈압에 영향을 준다고 볼 수 있다."
   ]
  }
 ],
 "metadata": {
  "kernelspec": {
   "display_name": "Python 3 (ipykernel)",
   "language": "python",
   "name": "python3"
  },
  "language_info": {
   "codemirror_mode": {
    "name": "ipython",
    "version": 3
   },
   "file_extension": ".py",
   "mimetype": "text/x-python",
   "name": "python",
   "nbconvert_exporter": "python",
   "pygments_lexer": "ipython3",
   "version": "3.10.6"
  }
 },
 "nbformat": 4,
 "nbformat_minor": 5
}
