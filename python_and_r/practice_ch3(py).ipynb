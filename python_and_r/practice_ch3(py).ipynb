{
 "cells": [
  {
   "cell_type": "markdown",
   "id": "f6b0d6c8",
   "metadata": {},
   "source": [
    "#### 2. 위의 자료 x1, x2, x3를 다음과 같이 리스트로 정의한 후 이 3개의 리스트를 value로 갖는 파이썬 dictionary를 만들어 보시오 (딕셔너리의 key 값은 각각 name, height, weight로 한다.)\n",
    "\n",
    "* x1 = ['kim', 'lee', 'park']\n",
    "* x2 = [170, 160, 180]\n",
    "* x3 = [60, 55, 75]"
   ]
  },
  {
   "cell_type": "code",
   "execution_count": 1,
   "id": "a023f273",
   "metadata": {},
   "outputs": [
    {
     "name": "stdout",
     "output_type": "stream",
     "text": [
      "{'name': ['kim', 'lee', 'park'], 'height': [170, 160, 180], 'weight': [60, 55, 75]}\n"
     ]
    }
   ],
   "source": [
    "x1 = ['kim', 'lee', 'park']\n",
    "x2 = [170, 160, 180]\n",
    "x3 = [60, 55, 75]\n",
    "d = {'name':x1, 'height':x2, 'weight':x3}\n",
    "print(d)"
   ]
  },
  {
   "cell_type": "markdown",
   "id": "67ff0270",
   "metadata": {},
   "source": [
    "#### 3. 위에서 만든 딕셔너리로 파이썬 데이터프레임을 만드시오. 이 데이터프레임에서 첫번째 사람 kim 의 키와 몸무게 두 값(이름 제외)만 배열로 추출하시오."
   ]
  },
  {
   "cell_type": "code",
   "execution_count": 9,
   "id": "053679e6",
   "metadata": {},
   "outputs": [
    {
     "name": "stdout",
     "output_type": "stream",
     "text": [
      "   name  height  weight\n",
      "0   kim     170      60\n",
      "1   lee     160      55\n",
      "2  park     180      75\n",
      "height    170\n",
      "weight     60\n",
      "Name: 0, dtype: object\n"
     ]
    }
   ],
   "source": [
    "import pandas as pd\n",
    "df = pd.DataFrame(d)\n",
    "print(df)\n",
    "x = df.iloc[0, [1,2]]\n",
    "print(x)"
   ]
  },
  {
   "cell_type": "markdown",
   "id": "b5d450ff",
   "metadata": {},
   "source": [
    "#### 5. 위 문제에서 파이썬을 사용하여 xm을 정의하고 같은 결과를 얻어 보시오."
   ]
  },
  {
   "cell_type": "code",
   "execution_count": 22,
   "id": "5932f3a6",
   "metadata": {},
   "outputs": [
    {
     "name": "stdout",
     "output_type": "stream",
     "text": [
      "[[ 1  2  3  4  5  6]\n",
      " [ 7  8  9 10 11 12]]\n",
      "[[ 1  2 10  3  4  5  6]\n",
      " [ 7  8 20  9 10 11 12]]\n"
     ]
    }
   ],
   "source": [
    "import numpy as np\n",
    "xm = np.arange(1,13)\n",
    "xm = xm.reshape(2,6)\n",
    "print(xm)\n",
    "xm1 = np.insert(xm, 2, np.array([10, 20]), axis=1)\n",
    "print(xm1)"
   ]
  },
  {
   "cell_type": "markdown",
   "id": "35d7e1b3",
   "metadata": {},
   "source": [
    "#### 6. 파이썬에서 x = [1, 2, 3, 4]일 때 이 x 를 사용하여 x1 과 x2를 각각 [1, 2, 3, 4, 5] 와 [2, 4, 6, 8] 로 만들어 보시오."
   ]
  },
  {
   "cell_type": "code",
   "execution_count": 28,
   "id": "d8781479",
   "metadata": {},
   "outputs": [
    {
     "name": "stdout",
     "output_type": "stream",
     "text": [
      "[1, 2, 3, 4, 5]\n"
     ]
    },
    {
     "data": {
      "text/plain": [
       "array([2, 4, 6, 8])"
      ]
     },
     "execution_count": 28,
     "metadata": {},
     "output_type": "execute_result"
    }
   ],
   "source": [
    "import numpy as np\n",
    "x = [1, 2, 3, 4]\n",
    "x1 = x.copy()\n",
    "x1.append(5)\n",
    "print(x1)\n",
    "x2 = np.array(x)\n",
    "x2*2"
   ]
  }
 ],
 "metadata": {
  "kernelspec": {
   "display_name": "Python 3 (ipykernel)",
   "language": "python",
   "name": "python3"
  },
  "language_info": {
   "codemirror_mode": {
    "name": "ipython",
    "version": 3
   },
   "file_extension": ".py",
   "mimetype": "text/x-python",
   "name": "python",
   "nbconvert_exporter": "python",
   "pygments_lexer": "ipython3",
   "version": "3.10.6"
  }
 },
 "nbformat": 4,
 "nbformat_minor": 5
}
