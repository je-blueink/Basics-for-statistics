{
  "nbformat": 4,
  "nbformat_minor": 0,
  "metadata": {
    "colab": {
      "provenance": [],
      "mount_file_id": "167V-Li2z5slgwHkUvLSoU9RtWjA2fW_Q",
      "authorship_tag": "ABX9TyN/HW3+J+WaGWC8bNO+W8vc",
      "include_colab_link": true
    },
    "kernelspec": {
      "name": "python3",
      "display_name": "Python 3"
    },
    "language_info": {
      "name": "python"
    }
  },
  "cells": [
    {
      "cell_type": "markdown",
      "metadata": {
        "id": "view-in-github",
        "colab_type": "text"
      },
      "source": [
        "<a href=\"https://colab.research.google.com/github/je-blueink/Basics-for-statistics/blob/main/python-and-r/exercises_py.ipynb\" target=\"_parent\"><img src=\"https://colab.research.google.com/assets/colab-badge.svg\" alt=\"Open In Colab\"/></a>"
      ]
    },
    {
      "cell_type": "markdown",
      "source": [
        "3장 2.\n",
        "- x1, x2, x3 을 리스트로 정의\n",
        "- 3개의 리스트를 value로 갖는 딕셔너리 만들기 (key: name, height, weight)"
      ],
      "metadata": {
        "id": "jt0WG0skdI55"
      }
    },
    {
      "cell_type": "code",
      "source": [
        "x1 = [\"kim\", \"lee\", \"park\"]\n",
        "x2 = [170, 160, 180]\n",
        "x3 = [60, 55, 75]\n",
        "dic1 = {'name':x1, 'height':x2, 'weight':x3}\n",
        "dic1"
      ],
      "metadata": {
        "colab": {
          "base_uri": "https://localhost:8080/"
        },
        "id": "DpgUBrq4dePo",
        "outputId": "a8979267-730b-4dc2-e02b-86ebfea7e472"
      },
      "execution_count": null,
      "outputs": [
        {
          "output_type": "execute_result",
          "data": {
            "text/plain": [
              "{'name': ['kim', 'lee', 'park'],\n",
              " 'height': [170, 160, 180],\n",
              " 'weight': [60, 55, 75]}"
            ]
          },
          "metadata": {},
          "execution_count": 5
        }
      ]
    },
    {
      "cell_type": "markdown",
      "source": [
        "3장 3.\n",
        "- 위 딕셔너리로 데이터프레임 만들기\n",
        "- 데이터프레임에서 첫 번째 사람 kim의 키, 몸무게 두 값만 배열로 추출"
      ],
      "metadata": {
        "id": "3gZgWduWfAaF"
      }
    },
    {
      "cell_type": "code",
      "source": [
        "import pandas as pd\n",
        "df2 = pd.DataFrame(data=dic1)\n",
        "print(df2)"
      ],
      "metadata": {
        "colab": {
          "base_uri": "https://localhost:8080/"
        },
        "id": "SoeQpONMfPT0",
        "outputId": "5bb35141-bba8-4045-c0fb-fbb1095961f6"
      },
      "execution_count": null,
      "outputs": [
        {
          "output_type": "stream",
          "name": "stdout",
          "text": [
            "   name  height  weight\n",
            "0   kim     170      60\n",
            "1   lee     160      55\n",
            "2  park     180      75\n"
          ]
        }
      ]
    },
    {
      "cell_type": "code",
      "source": [
        "import numpy as np\n",
        "arr2 = np.array(df2.iloc[0,[1,2]])\n",
        "print(arr2)"
      ],
      "metadata": {
        "colab": {
          "base_uri": "https://localhost:8080/"
        },
        "id": "WsMZzElYfqQq",
        "outputId": "b49ce25a-4f85-43c4-9ed9-62627d081997"
      },
      "execution_count": null,
      "outputs": [
        {
          "output_type": "stream",
          "name": "stdout",
          "text": [
            "[170 60]\n"
          ]
        }
      ]
    },
    {
      "cell_type": "markdown",
      "source": [
        "4장 7.\n",
        "- 함수 mywage 작성\n",
        "(주당 근무시간 40시간 이내: 시간당 임금 1만원 / 40시간 초과분에 대해 1.5배 지급)"
      ],
      "metadata": {
        "id": "4nELA6WJhL_c"
      }
    },
    {
      "cell_type": "code",
      "source": [
        "def mywage(time):\n",
        "   if(time>40):\n",
        "    print(\"총 임금:\", (40+(time-40)*1.5)*10000, \"원\")\n",
        "   elif(time>0 and time<=40):\n",
        "    print(\"총 임금:\", time*10000, \"원\")\n",
        "   else:\n",
        "     print(\"총 임금: 0 원\")\n",
        "time = int(input(\"임금 계산을 위해 주당 근무시간을 입력하세요 : \"))\n",
        "mywage(time)"
      ],
      "metadata": {
        "colab": {
          "base_uri": "https://localhost:8080/"
        },
        "id": "BKDckwyDhfW2",
        "outputId": "3f8f04ca-2cd6-4ad1-b4f8-55aa924cb35d"
      },
      "execution_count": null,
      "outputs": [
        {
          "output_type": "stream",
          "name": "stdout",
          "text": [
            "임금 계산을 위해 주당 근무시간을 입력하세요 : 30\n",
            "총 임금: 300000 원\n"
          ]
        }
      ]
    },
    {
      "cell_type": "code",
      "source": [
        "mywage(100)"
      ],
      "metadata": {
        "colab": {
          "base_uri": "https://localhost:8080/"
        },
        "id": "8DW865hWlRbH",
        "outputId": "8b5ca58d-808b-4449-e652-e64ce98ea471"
      },
      "execution_count": null,
      "outputs": [
        {
          "output_type": "stream",
          "name": "stdout",
          "text": [
            "총 임금: 1300000.0 원\n"
          ]
        }
      ]
    },
    {
      "cell_type": "markdown",
      "source": [
        "4장 9.\n",
        "다음 R 함수문과 같은 기능을 실행하는 클래스 만들고 실행\n",
        "\n",
        "```\n",
        "example <- function(name){\n",
        "  a = paste(\"Hello\", name, \"!\")\n",
        "  b = paste(\"Good-bye\", name, \"!\")\n",
        "  result <- list(a=a, b=b)\n",
        "  return(result)\n",
        "}\n",
        "\n",
        "name <- \"David\"\n",
        "aaa <- example(name)\n",
        "aaa$a\n",
        "aaa$b\n",
        "```"
      ],
      "metadata": {
        "id": "GgZc73Fulzl8"
      }
    },
    {
      "cell_type": "code",
      "source": [
        "class example :\n",
        "  def __init__(self, name):\n",
        "    self.name = name\n",
        "  def hello(self):\n",
        "    hello = 'hello'+ \" \" + self.name + '!'\n",
        "    return hello\n",
        "  def bye(self):\n",
        "    bye = 'Good-bye' + \" \" + self.name + '!'\n",
        "    return bye"
      ],
      "metadata": {
        "id": "KEeAQNRxmcwf"
      },
      "execution_count": null,
      "outputs": []
    },
    {
      "cell_type": "code",
      "source": [
        "aaa = example('David')\n",
        "aaa.hello()"
      ],
      "metadata": {
        "colab": {
          "base_uri": "https://localhost:8080/",
          "height": 35
        },
        "id": "mO3YAoFlN2P6",
        "outputId": "bfd6c335-44e0-4bcb-e06b-abe764dca7e9"
      },
      "execution_count": null,
      "outputs": [
        {
          "output_type": "execute_result",
          "data": {
            "text/plain": [
              "'hello David!'"
            ],
            "application/vnd.google.colaboratory.intrinsic+json": {
              "type": "string"
            }
          },
          "metadata": {},
          "execution_count": 40
        }
      ]
    },
    {
      "cell_type": "code",
      "source": [
        "aaa.bye()"
      ],
      "metadata": {
        "colab": {
          "base_uri": "https://localhost:8080/",
          "height": 35
        },
        "id": "n4WvZlBmRHv6",
        "outputId": "2dd1e9d3-3495-4d5d-b0f7-b4970c000b44"
      },
      "execution_count": null,
      "outputs": [
        {
          "output_type": "execute_result",
          "data": {
            "text/plain": [
              "'Good-bye David!'"
            ],
            "application/vnd.google.colaboratory.intrinsic+json": {
              "type": "string"
            }
          },
          "metadata": {},
          "execution_count": 41
        }
      ]
    },
    {
      "cell_type": "markdown",
      "source": [
        "8장 2.\n",
        "1985년 USDA 여성 영양 관련 자료 (25~50세, 랜덤표본 737명)\n",
        "\n",
        "(1) 결측치는 0으로 표시되어 있다.\n",
        "- 결측치를 제거하는 명령\n",
        "- 변수별 결측치 개수 확인"
      ],
      "metadata": {
        "id": "LBXlfa1-ZV0G"
      }
    },
    {
      "cell_type": "code",
      "source": [
        "import pandas as pd\n",
        "import numpy as np"
      ],
      "metadata": {
        "id": "lMvjf0_aZf4X"
      },
      "execution_count": null,
      "outputs": []
    },
    {
      "cell_type": "code",
      "source": [
        "# 데이터 입력 및 확인\n",
        "data3 = pd.read_csv(\"/content/drive/MyDrive/data/nutrient2.csv\")\n",
        "data3.head(5)"
      ],
      "metadata": {
        "colab": {
          "base_uri": "https://localhost:8080/",
          "height": 206
        },
        "id": "Wq8qVaW_1H0A",
        "outputId": "9c87cb7b-2781-4183-9f9a-e9b955ad1052"
      },
      "execution_count": null,
      "outputs": [
        {
          "output_type": "execute_result",
          "data": {
            "text/plain": [
              "   id  calcium    iron  protein  vitaminA  vitaminC\n",
              "0   1   522.29  10.188   42.561    349.13    54.141\n",
              "1   2   343.32   4.113   67.793    266.99    24.839\n",
              "2   3   858.26  13.741   59.933    667.90   155.455\n",
              "3   4   575.98  13.245   42.215      0.00   224.688\n",
              "4   5  1927.50  18.919  111.316    740.27    80.961"
            ],
            "text/html": [
              "\n",
              "  <div id=\"df-abce26ac-6f75-4c53-af3a-2e54899a2eb3\">\n",
              "    <div class=\"colab-df-container\">\n",
              "      <div>\n",
              "<style scoped>\n",
              "    .dataframe tbody tr th:only-of-type {\n",
              "        vertical-align: middle;\n",
              "    }\n",
              "\n",
              "    .dataframe tbody tr th {\n",
              "        vertical-align: top;\n",
              "    }\n",
              "\n",
              "    .dataframe thead th {\n",
              "        text-align: right;\n",
              "    }\n",
              "</style>\n",
              "<table border=\"1\" class=\"dataframe\">\n",
              "  <thead>\n",
              "    <tr style=\"text-align: right;\">\n",
              "      <th></th>\n",
              "      <th>id</th>\n",
              "      <th>calcium</th>\n",
              "      <th>iron</th>\n",
              "      <th>protein</th>\n",
              "      <th>vitaminA</th>\n",
              "      <th>vitaminC</th>\n",
              "    </tr>\n",
              "  </thead>\n",
              "  <tbody>\n",
              "    <tr>\n",
              "      <th>0</th>\n",
              "      <td>1</td>\n",
              "      <td>522.29</td>\n",
              "      <td>10.188</td>\n",
              "      <td>42.561</td>\n",
              "      <td>349.13</td>\n",
              "      <td>54.141</td>\n",
              "    </tr>\n",
              "    <tr>\n",
              "      <th>1</th>\n",
              "      <td>2</td>\n",
              "      <td>343.32</td>\n",
              "      <td>4.113</td>\n",
              "      <td>67.793</td>\n",
              "      <td>266.99</td>\n",
              "      <td>24.839</td>\n",
              "    </tr>\n",
              "    <tr>\n",
              "      <th>2</th>\n",
              "      <td>3</td>\n",
              "      <td>858.26</td>\n",
              "      <td>13.741</td>\n",
              "      <td>59.933</td>\n",
              "      <td>667.90</td>\n",
              "      <td>155.455</td>\n",
              "    </tr>\n",
              "    <tr>\n",
              "      <th>3</th>\n",
              "      <td>4</td>\n",
              "      <td>575.98</td>\n",
              "      <td>13.245</td>\n",
              "      <td>42.215</td>\n",
              "      <td>0.00</td>\n",
              "      <td>224.688</td>\n",
              "    </tr>\n",
              "    <tr>\n",
              "      <th>4</th>\n",
              "      <td>5</td>\n",
              "      <td>1927.50</td>\n",
              "      <td>18.919</td>\n",
              "      <td>111.316</td>\n",
              "      <td>740.27</td>\n",
              "      <td>80.961</td>\n",
              "    </tr>\n",
              "  </tbody>\n",
              "</table>\n",
              "</div>\n",
              "      <button class=\"colab-df-convert\" onclick=\"convertToInteractive('df-abce26ac-6f75-4c53-af3a-2e54899a2eb3')\"\n",
              "              title=\"Convert this dataframe to an interactive table.\"\n",
              "              style=\"display:none;\">\n",
              "        \n",
              "  <svg xmlns=\"http://www.w3.org/2000/svg\" height=\"24px\"viewBox=\"0 0 24 24\"\n",
              "       width=\"24px\">\n",
              "    <path d=\"M0 0h24v24H0V0z\" fill=\"none\"/>\n",
              "    <path d=\"M18.56 5.44l.94 2.06.94-2.06 2.06-.94-2.06-.94-.94-2.06-.94 2.06-2.06.94zm-11 1L8.5 8.5l.94-2.06 2.06-.94-2.06-.94L8.5 2.5l-.94 2.06-2.06.94zm10 10l.94 2.06.94-2.06 2.06-.94-2.06-.94-.94-2.06-.94 2.06-2.06.94z\"/><path d=\"M17.41 7.96l-1.37-1.37c-.4-.4-.92-.59-1.43-.59-.52 0-1.04.2-1.43.59L10.3 9.45l-7.72 7.72c-.78.78-.78 2.05 0 2.83L4 21.41c.39.39.9.59 1.41.59.51 0 1.02-.2 1.41-.59l7.78-7.78 2.81-2.81c.8-.78.8-2.07 0-2.86zM5.41 20L4 18.59l7.72-7.72 1.47 1.35L5.41 20z\"/>\n",
              "  </svg>\n",
              "      </button>\n",
              "      \n",
              "  <style>\n",
              "    .colab-df-container {\n",
              "      display:flex;\n",
              "      flex-wrap:wrap;\n",
              "      gap: 12px;\n",
              "    }\n",
              "\n",
              "    .colab-df-convert {\n",
              "      background-color: #E8F0FE;\n",
              "      border: none;\n",
              "      border-radius: 50%;\n",
              "      cursor: pointer;\n",
              "      display: none;\n",
              "      fill: #1967D2;\n",
              "      height: 32px;\n",
              "      padding: 0 0 0 0;\n",
              "      width: 32px;\n",
              "    }\n",
              "\n",
              "    .colab-df-convert:hover {\n",
              "      background-color: #E2EBFA;\n",
              "      box-shadow: 0px 1px 2px rgba(60, 64, 67, 0.3), 0px 1px 3px 1px rgba(60, 64, 67, 0.15);\n",
              "      fill: #174EA6;\n",
              "    }\n",
              "\n",
              "    [theme=dark] .colab-df-convert {\n",
              "      background-color: #3B4455;\n",
              "      fill: #D2E3FC;\n",
              "    }\n",
              "\n",
              "    [theme=dark] .colab-df-convert:hover {\n",
              "      background-color: #434B5C;\n",
              "      box-shadow: 0px 1px 3px 1px rgba(0, 0, 0, 0.15);\n",
              "      filter: drop-shadow(0px 1px 2px rgba(0, 0, 0, 0.3));\n",
              "      fill: #FFFFFF;\n",
              "    }\n",
              "  </style>\n",
              "\n",
              "      <script>\n",
              "        const buttonEl =\n",
              "          document.querySelector('#df-abce26ac-6f75-4c53-af3a-2e54899a2eb3 button.colab-df-convert');\n",
              "        buttonEl.style.display =\n",
              "          google.colab.kernel.accessAllowed ? 'block' : 'none';\n",
              "\n",
              "        async function convertToInteractive(key) {\n",
              "          const element = document.querySelector('#df-abce26ac-6f75-4c53-af3a-2e54899a2eb3');\n",
              "          const dataTable =\n",
              "            await google.colab.kernel.invokeFunction('convertToInteractive',\n",
              "                                                     [key], {});\n",
              "          if (!dataTable) return;\n",
              "\n",
              "          const docLinkHtml = 'Like what you see? Visit the ' +\n",
              "            '<a target=\"_blank\" href=https://colab.research.google.com/notebooks/data_table.ipynb>data table notebook</a>'\n",
              "            + ' to learn more about interactive tables.';\n",
              "          element.innerHTML = '';\n",
              "          dataTable['output_type'] = 'display_data';\n",
              "          await google.colab.output.renderOutput(dataTable, element);\n",
              "          const docLink = document.createElement('div');\n",
              "          docLink.innerHTML = docLinkHtml;\n",
              "          element.appendChild(docLink);\n",
              "        }\n",
              "      </script>\n",
              "    </div>\n",
              "  </div>\n",
              "  "
            ]
          },
          "metadata": {},
          "execution_count": 8
        }
      ]
    },
    {
      "cell_type": "code",
      "source": [
        "# 변수별 결측치 확인\n",
        "data3 = data3.set_index(\"id\")\n",
        "data3 = data3.replace(0, np.nan)\n",
        "data3.isnull().sum()"
      ],
      "metadata": {
        "colab": {
          "base_uri": "https://localhost:8080/"
        },
        "id": "CkEqM2cR2cD9",
        "outputId": "544df75b-2b82-48f8-de4d-a7e0caf5a774"
      },
      "execution_count": null,
      "outputs": [
        {
          "output_type": "execute_result",
          "data": {
            "text/plain": [
              "calcium     4\n",
              "iron        2\n",
              "protein     1\n",
              "vitaminA    9\n",
              "vitaminC    7\n",
              "dtype: int64"
            ]
          },
          "metadata": {},
          "execution_count": 9
        }
      ]
    },
    {
      "cell_type": "code",
      "source": [
        "# 결측치 제거 및 확인\n",
        "data_drop = data3.dropna(axis=0)\n",
        "data_drop.isnull().sum()"
      ],
      "metadata": {
        "colab": {
          "base_uri": "https://localhost:8080/"
        },
        "id": "FOLshWMe4CMZ",
        "outputId": "5146c67d-9a57-4fd7-d1e2-8e5e91be3eb9"
      },
      "execution_count": null,
      "outputs": [
        {
          "output_type": "execute_result",
          "data": {
            "text/plain": [
              "calcium     0\n",
              "iron        0\n",
              "protein     0\n",
              "vitaminA    0\n",
              "vitaminC    0\n",
              "dtype: int64"
            ]
          },
          "metadata": {},
          "execution_count": 31
        }
      ]
    },
    {
      "cell_type": "markdown",
      "source": [
        "(2) 변수별 평균, 표준편차, 최솟값, 최댓값, 중앙값, 제1사분위수, 제3사분위수"
      ],
      "metadata": {
        "id": "0iN-ArCwZgdV"
      }
    },
    {
      "cell_type": "code",
      "source": [
        "data3.describe()"
      ],
      "metadata": {
        "colab": {
          "base_uri": "https://localhost:8080/",
          "height": 300
        },
        "id": "2xa__orjZjBF",
        "outputId": "c66c99e5-4ee7-4a65-8fed-28d1283b2289"
      },
      "execution_count": null,
      "outputs": [
        {
          "output_type": "execute_result",
          "data": {
            "text/plain": [
              "           calcium        iron     protein      vitaminA    vitaminC\n",
              "count   733.000000  735.000000  736.000000    728.000000  730.000000\n",
              "mean    620.757749   11.133835   65.892848    835.949478   78.810208\n",
              "std     394.939556    5.970502   30.499992   1637.222928   72.422305\n",
              "min       7.440000    0.367000    2.255000      2.270000    0.037000\n",
              "25%     325.950000    7.468000   45.522750    276.607500   25.624250\n",
              "50%     547.430000   10.033000   61.239500    523.185000   53.681000\n",
              "75%     822.570000   13.689000   80.805750    938.905000  108.626500\n",
              "max    2866.440000   58.668000  251.012000  34434.270000  414.802000"
            ],
            "text/html": [
              "\n",
              "  <div id=\"df-9b7b7cbb-bf5c-4b84-b866-4eb7261118ea\">\n",
              "    <div class=\"colab-df-container\">\n",
              "      <div>\n",
              "<style scoped>\n",
              "    .dataframe tbody tr th:only-of-type {\n",
              "        vertical-align: middle;\n",
              "    }\n",
              "\n",
              "    .dataframe tbody tr th {\n",
              "        vertical-align: top;\n",
              "    }\n",
              "\n",
              "    .dataframe thead th {\n",
              "        text-align: right;\n",
              "    }\n",
              "</style>\n",
              "<table border=\"1\" class=\"dataframe\">\n",
              "  <thead>\n",
              "    <tr style=\"text-align: right;\">\n",
              "      <th></th>\n",
              "      <th>calcium</th>\n",
              "      <th>iron</th>\n",
              "      <th>protein</th>\n",
              "      <th>vitaminA</th>\n",
              "      <th>vitaminC</th>\n",
              "    </tr>\n",
              "  </thead>\n",
              "  <tbody>\n",
              "    <tr>\n",
              "      <th>count</th>\n",
              "      <td>733.000000</td>\n",
              "      <td>735.000000</td>\n",
              "      <td>736.000000</td>\n",
              "      <td>728.000000</td>\n",
              "      <td>730.000000</td>\n",
              "    </tr>\n",
              "    <tr>\n",
              "      <th>mean</th>\n",
              "      <td>620.757749</td>\n",
              "      <td>11.133835</td>\n",
              "      <td>65.892848</td>\n",
              "      <td>835.949478</td>\n",
              "      <td>78.810208</td>\n",
              "    </tr>\n",
              "    <tr>\n",
              "      <th>std</th>\n",
              "      <td>394.939556</td>\n",
              "      <td>5.970502</td>\n",
              "      <td>30.499992</td>\n",
              "      <td>1637.222928</td>\n",
              "      <td>72.422305</td>\n",
              "    </tr>\n",
              "    <tr>\n",
              "      <th>min</th>\n",
              "      <td>7.440000</td>\n",
              "      <td>0.367000</td>\n",
              "      <td>2.255000</td>\n",
              "      <td>2.270000</td>\n",
              "      <td>0.037000</td>\n",
              "    </tr>\n",
              "    <tr>\n",
              "      <th>25%</th>\n",
              "      <td>325.950000</td>\n",
              "      <td>7.468000</td>\n",
              "      <td>45.522750</td>\n",
              "      <td>276.607500</td>\n",
              "      <td>25.624250</td>\n",
              "    </tr>\n",
              "    <tr>\n",
              "      <th>50%</th>\n",
              "      <td>547.430000</td>\n",
              "      <td>10.033000</td>\n",
              "      <td>61.239500</td>\n",
              "      <td>523.185000</td>\n",
              "      <td>53.681000</td>\n",
              "    </tr>\n",
              "    <tr>\n",
              "      <th>75%</th>\n",
              "      <td>822.570000</td>\n",
              "      <td>13.689000</td>\n",
              "      <td>80.805750</td>\n",
              "      <td>938.905000</td>\n",
              "      <td>108.626500</td>\n",
              "    </tr>\n",
              "    <tr>\n",
              "      <th>max</th>\n",
              "      <td>2866.440000</td>\n",
              "      <td>58.668000</td>\n",
              "      <td>251.012000</td>\n",
              "      <td>34434.270000</td>\n",
              "      <td>414.802000</td>\n",
              "    </tr>\n",
              "  </tbody>\n",
              "</table>\n",
              "</div>\n",
              "      <button class=\"colab-df-convert\" onclick=\"convertToInteractive('df-9b7b7cbb-bf5c-4b84-b866-4eb7261118ea')\"\n",
              "              title=\"Convert this dataframe to an interactive table.\"\n",
              "              style=\"display:none;\">\n",
              "        \n",
              "  <svg xmlns=\"http://www.w3.org/2000/svg\" height=\"24px\"viewBox=\"0 0 24 24\"\n",
              "       width=\"24px\">\n",
              "    <path d=\"M0 0h24v24H0V0z\" fill=\"none\"/>\n",
              "    <path d=\"M18.56 5.44l.94 2.06.94-2.06 2.06-.94-2.06-.94-.94-2.06-.94 2.06-2.06.94zm-11 1L8.5 8.5l.94-2.06 2.06-.94-2.06-.94L8.5 2.5l-.94 2.06-2.06.94zm10 10l.94 2.06.94-2.06 2.06-.94-2.06-.94-.94-2.06-.94 2.06-2.06.94z\"/><path d=\"M17.41 7.96l-1.37-1.37c-.4-.4-.92-.59-1.43-.59-.52 0-1.04.2-1.43.59L10.3 9.45l-7.72 7.72c-.78.78-.78 2.05 0 2.83L4 21.41c.39.39.9.59 1.41.59.51 0 1.02-.2 1.41-.59l7.78-7.78 2.81-2.81c.8-.78.8-2.07 0-2.86zM5.41 20L4 18.59l7.72-7.72 1.47 1.35L5.41 20z\"/>\n",
              "  </svg>\n",
              "      </button>\n",
              "      \n",
              "  <style>\n",
              "    .colab-df-container {\n",
              "      display:flex;\n",
              "      flex-wrap:wrap;\n",
              "      gap: 12px;\n",
              "    }\n",
              "\n",
              "    .colab-df-convert {\n",
              "      background-color: #E8F0FE;\n",
              "      border: none;\n",
              "      border-radius: 50%;\n",
              "      cursor: pointer;\n",
              "      display: none;\n",
              "      fill: #1967D2;\n",
              "      height: 32px;\n",
              "      padding: 0 0 0 0;\n",
              "      width: 32px;\n",
              "    }\n",
              "\n",
              "    .colab-df-convert:hover {\n",
              "      background-color: #E2EBFA;\n",
              "      box-shadow: 0px 1px 2px rgba(60, 64, 67, 0.3), 0px 1px 3px 1px rgba(60, 64, 67, 0.15);\n",
              "      fill: #174EA6;\n",
              "    }\n",
              "\n",
              "    [theme=dark] .colab-df-convert {\n",
              "      background-color: #3B4455;\n",
              "      fill: #D2E3FC;\n",
              "    }\n",
              "\n",
              "    [theme=dark] .colab-df-convert:hover {\n",
              "      background-color: #434B5C;\n",
              "      box-shadow: 0px 1px 3px 1px rgba(0, 0, 0, 0.15);\n",
              "      filter: drop-shadow(0px 1px 2px rgba(0, 0, 0, 0.3));\n",
              "      fill: #FFFFFF;\n",
              "    }\n",
              "  </style>\n",
              "\n",
              "      <script>\n",
              "        const buttonEl =\n",
              "          document.querySelector('#df-9b7b7cbb-bf5c-4b84-b866-4eb7261118ea button.colab-df-convert');\n",
              "        buttonEl.style.display =\n",
              "          google.colab.kernel.accessAllowed ? 'block' : 'none';\n",
              "\n",
              "        async function convertToInteractive(key) {\n",
              "          const element = document.querySelector('#df-9b7b7cbb-bf5c-4b84-b866-4eb7261118ea');\n",
              "          const dataTable =\n",
              "            await google.colab.kernel.invokeFunction('convertToInteractive',\n",
              "                                                     [key], {});\n",
              "          if (!dataTable) return;\n",
              "\n",
              "          const docLinkHtml = 'Like what you see? Visit the ' +\n",
              "            '<a target=\"_blank\" href=https://colab.research.google.com/notebooks/data_table.ipynb>data table notebook</a>'\n",
              "            + ' to learn more about interactive tables.';\n",
              "          element.innerHTML = '';\n",
              "          dataTable['output_type'] = 'display_data';\n",
              "          await google.colab.output.renderOutput(dataTable, element);\n",
              "          const docLink = document.createElement('div');\n",
              "          docLink.innerHTML = docLinkHtml;\n",
              "          element.appendChild(docLink);\n",
              "        }\n",
              "      </script>\n",
              "    </div>\n",
              "  </div>\n",
              "  "
            ]
          },
          "metadata": {},
          "execution_count": 32
        }
      ]
    },
    {
      "cell_type": "markdown",
      "source": [
        "(3) 변수별 상자그림 및 히스토그램 그리기 + 각 변수의 분포 설명"
      ],
      "metadata": {
        "id": "4uyIgWpBZjft"
      }
    },
    {
      "cell_type": "code",
      "source": [
        "import seaborn as sns\n",
        "import matplotlib.pyplot as plt"
      ],
      "metadata": {
        "id": "9lxZTrD7Zl5I"
      },
      "execution_count": null,
      "outputs": []
    },
    {
      "cell_type": "code",
      "source": [
        "sns.boxplot(data = data3)"
      ],
      "metadata": {
        "colab": {
          "base_uri": "https://localhost:8080/",
          "height": 283
        },
        "id": "B5S9fmV7--C7",
        "outputId": "844162ab-e28e-40ba-999f-fd2dcbca896f"
      },
      "execution_count": null,
      "outputs": [
        {
          "output_type": "execute_result",
          "data": {
            "text/plain": [
              "<matplotlib.axes._subplots.AxesSubplot at 0x7f8c33193f90>"
            ]
          },
          "metadata": {},
          "execution_count": 33
        },
        {
          "output_type": "display_data",
          "data": {
            "text/plain": [
              "<Figure size 432x288 with 1 Axes>"
            ],
            "image/png": "[encoded data removed]"
          },
          "metadata": {
            "needs_background": "light"
          }
        }
      ]
    },
    {
      "cell_type": "code",
      "source": [
        "# 분포를 좀 더 확인하기 쉽도록 각 변수별 이상치를 제거하고 각각 상자그림을 그림\n",
        "\n",
        "# 이상치 제거\n",
        "\n",
        "data_cal = pd.Series(data3.calcium, name=\"calcium\")\n",
        "lev_1q = data_cal.quantile(0.25)\n",
        "lev_3q = data_cal.quantile(0.75)\n",
        "iqr = lev_3q - lev_1q\n",
        "rm_cal = data_cal[(data_cal <= lev_3q + (3 * iqr)) & (data_cal >= lev_1q - (3 * iqr))]\n",
        "rm_cal = rm_cal.reset_index(drop=True)\n",
        "\n"
      ],
      "metadata": {
        "colab": {
          "base_uri": "https://localhost:8080/",
          "height": 283
        },
        "id": "tJKtof7lEWki",
        "outputId": "86127f14-2bc3-4509-acc7-1b21276f11c1"
      },
      "execution_count": null,
      "outputs": [
        {
          "output_type": "execute_result",
          "data": {
            "text/plain": [
              "<matplotlib.axes._subplots.AxesSubplot at 0x7f060fc81890>"
            ]
          },
          "metadata": {},
          "execution_count": 28
        },
        {
          "output_type": "display_data",
          "data": {
            "text/plain": [
              "<Figure size 432x288 with 1 Axes>"
            ],
            "image/png": "[encoded data removed]"
          },
          "metadata": {
            "needs_background": "light"
          }
        }
      ]
    },
    {
      "cell_type": "code",
      "source": [
        "# 분포를 좀 더 확인하기 쉽도록 각각 상자그림을 그림\n",
        "fig, ((ax1, ax2), (ax3, ax4), (ax5, ax6)) = plt.subplots(3,2)\n",
        "plt.subplots_adjust(left=0.125, bottom=0.1,  right=0.9, top=0.9, wspace=0.2, hspace=0.9)\n",
        "\n",
        "sns.boxplot(data = data3.calcium,orient=\"h\", ax = ax1)\n",
        "ax1.set_title(\"Calcium\", fontsize = 12)\n",
        "\n",
        "sns.boxplot(data = data3.iron,orient=\"h\",ax = ax2)\n",
        "ax2.set_title(\"Iron\", fontsize = 12)\n",
        "\n",
        "sns.boxplot(data = data3.protein, orient=\"h\", ax = ax3)\n",
        "ax3.set_title(\"Protein\", fontsize = 12)\n",
        "\n",
        "sns.boxplot(data = data3.vitaminA, orient=\"h\", ax = ax4)\n",
        "ax4.set_title(\"Vitamin A\", fontsize = 12)\n",
        "\n",
        "sns.boxplot(data = data3.vitaminC, orient=\"h\", ax = ax5)\n",
        "ax5.set_title(\"Vitamin C\", fontsize = 12)"
      ],
      "metadata": {
        "colab": {
          "base_uri": "https://localhost:8080/",
          "height": 312
        },
        "id": "G7lVzg5tB3b7",
        "outputId": "8eb93b29-42e1-4bfd-b083-123917b24ac5"
      },
      "execution_count": null,
      "outputs": [
        {
          "output_type": "execute_result",
          "data": {
            "text/plain": [
              "Text(0.5, 1.0, 'Vitamin C')"
            ]
          },
          "metadata": {},
          "execution_count": 29
        },
        {
          "output_type": "display_data",
          "data": {
            "text/plain": [
              "<Figure size 432x288 with 6 Axes>"
            ],
            "image/png": "[encoded data removed]"
          },
          "metadata": {
            "needs_background": "light"
          }
        }
      ]
    },
    {
      "cell_type": "code",
      "source": [
        "# 변수별 히스토그램 그리기\n",
        "fig = plt.figure(figsize=(15,10))\n",
        "plt.subplots_adjust(left=0.125, bottom=0.1,  right=0.9, top=0.9, wspace=0.2, hspace=0.9)\n",
        "\n",
        "sns.set(style=\"darkgrid\")\n",
        "\n",
        "b1 = fig.add_subplot(3,2,1)\n",
        "b2 = fig.add_subplot(3,2,2)\n",
        "b3 = fig.add_subplot(3,2,3)\n",
        "b4 = fig.add_subplot(3,2,4)\n",
        "b5 = fig.add_subplot(3,2,5)\n",
        "\n",
        "sns.histplot(data3.calcium, label='calcium', ax=b1)\n",
        "sns.histplot(data3.iron, label='iron', ax=b2)\n",
        "sns.histplot(data3.protein, label='protein', ax=b3)\n",
        "sns.histplot(data3.vitaminA, label='vitamin A', ax=b4)\n",
        "sns.histplot(data3.vitaminC, label='vitamin C', ax=b5)"
      ],
      "metadata": {
        "colab": {
          "base_uri": "https://localhost:8080/",
          "height": 661
        },
        "id": "fxIdiuanPKTp",
        "outputId": "d7e73631-5e5e-4039-84ac-97bea4d21399"
      },
      "execution_count": null,
      "outputs": [
        {
          "output_type": "execute_result",
          "data": {
            "text/plain": [
              "<matplotlib.axes._subplots.AxesSubplot at 0x7f060c524350>"
            ]
          },
          "metadata": {},
          "execution_count": 37
        },
        {
          "output_type": "display_data",
          "data": {
            "text/plain": [
              "<Figure size 1080x720 with 5 Axes>"
            ],
            "image/png": "[encoded data removed]"
          },
          "metadata": {}
        }
      ]
    }
  ]
}